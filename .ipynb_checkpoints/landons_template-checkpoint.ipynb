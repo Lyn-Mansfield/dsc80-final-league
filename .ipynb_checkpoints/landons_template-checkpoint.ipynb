{
 "cells": [
  {
   "cell_type": "markdown",
   "metadata": {},
   "source": [
    "# Your Title Here\n",
    "\n",
    "**Name(s)**: Landon Marchetti and Lyn Mansfield\n",
    "\n",
    "**Website Link**: (your website link)"
   ]
  },
  {
   "cell_type": "code",
   "execution_count": 2,
   "metadata": {
    "ExecuteTime": {
     "end_time": "2019-10-31T23:36:28.652554Z",
     "start_time": "2019-10-31T23:36:27.180520Z"
    }
   },
   "outputs": [],
   "source": [
    "import pandas as pd\n",
    "import numpy as np\n",
    "from pathlib import Path\n",
    "import os\n",
    "import plotly.express as px\n",
    "\n",
    "pd.options.plotting.backend = 'plotly'\n",
    "from dsc80_utils import * # Feel free to uncomment and use this.\n",
    "from data_cleaner import *"
   ]
  },
  {
   "cell_type": "markdown",
   "metadata": {},
   "source": [
    "## Step 1: Introduction\n",
    "\n",
    "Provide an introduction to your dataset, and clearly state the one question your project is centered around. Why should readers of your website care about the dataset and your question specifically? Report the number of rows in the dataset, the names of the columns that are relevant to your question, and descriptions of those relevant columns.\n",
    "\n",
    "Which legends are the most meta-defining? Difference in win rate between when it's banned vs when it's not\n",
    "\n",
    "Which characters are the most banned? Which characters are the best?\n",
    "\n",
    "What archetype of character's performance matters the most? Which archetype get banned most?\n",
    "\n",
    "Central Question: \"How do character bans and archetypes influence competitive performance and define the meta in League of Legends?\"\n",
    "\n",
    "Paragraph 1(General intro): League of Legends is one of the most famous multiplayer online battle arena games developed by Riot Games on October 27, 2009. With close to 120 million monthly active users and 40 million daily users worldwide, the game has become one of the most dominant games in the MOBA world. Well be working with a dataset developed by Oracle’s Elixir, which contains match data from professional League of Legends esports games played in 2022. It’s filled with detailed statistics from real esports games, giving us insight into how players perform, how teams operate, and what affects the outcome of matches.\n",
    "\n",
    "\n",
    "\n",
    "Paragraph 2(question intro): One of the main aspects of League of Legends professional play is the initial ban phase. In professional League of Legends, the ban phase involves both teams selecting champions to be removed from the game's pool, preventing them from being picked by either side. This phase alternates between each team banning a champion, with each team having a total of 10 bans. Teams use the ban phase to prevent the enemy team from picking strong or counter-picking champions. \n",
    "\n",
    "The central question we will be looking at further is: How do character bans and archetypes influence competitive performance and define the meta in League of Legends? This question aims to explore how the types of champions that are banned or picked—especially based on their archetypes—affect individual and team performance in professional League of Legends matches.\n",
    "\n",
    "\n",
    "Paragraph 3(column intro):\n",
    "The Oracle’s Elixir dataset provides an extensive number of columns, as well as 60180 rows that consist of a group of 10 rows, 5 for each team's players and then 2 afterwards of the team stats for each team. The columns the most relevant to our central question are the following:\n",
    "game id: This column is a code that is used as a unique identifier for each match that is played. \n",
    "damagemitigatedperminute: This column refers to the average of the amount of damage that is reduced or blocked by defensive abilities, shields, or other mechanisms by a player or team per minute.\n",
    "player id: This column is a code that is used as a unique identifier for each player that has participated in 1 or more matches. \n",
    "team id: This column is a code that is used as a unique identifier for each team that has participated in 1 or more matches. \n",
    "champion: A champion is a playable character that players control during the game. There are 170 champions with unique abilities, stats, and roles.\n",
    "ban1: This column represents the team’s first champion that they picked to not be able to be used for the match. \n",
    "ban2: This column represents the team’s second champion that they picked to not be able to be used for the match. \n",
    "ban3: This column represents the team’s third champion that they picked to not be able to be used for the match. \n",
    "ban4: This column represents the team’s fourth champion that they picked to not be able to be used for the match. \n",
    "ban5: This column represents the team’s fifth champion that they picked to not be able to be used for the match. \n",
    "result: This column is either Won or Lost and represents whether or not the individual player or team won the match. \n",
    "kills: This column gives a quantity of the number of enemy champions the player, or collective team, defeated in the match. \n",
    "deaths: This column gives a quantity of the amount of times the enemy team defeats the players, or collective teams champions in a match. \n",
    "assists: This column gives us a quantity of the amount of times the player, or collective team, contributed to defeating an enemy champion while not getting the kill themselves. \n",
    "dpm: This column shows us the average damage a player, or collective team, does to an enemy champion per minute. \n",
    "earned gold: This column shows us the amount of gold a champion earned, which is earned by killing or assisting in killing enemy champions. Champions that have killed many enemies without dying are worth more gold.\n",
    "position: This column tells us the archetype of the champion that the player has chosen, can be Top, Jungle, Mid, Bot (ADC), and Support. \n",
    "damaged share: This column refers to the percentage of total damage a champion deals to enemy champions within a team fight or over the course of a game. \n"
   ]
  },
  {
   "cell_type": "code",
   "execution_count": null,
   "metadata": {},
   "outputs": [],
   "source": []
  },
  {
   "cell_type": "markdown",
   "metadata": {},
   "source": [
    "## Step 2: Data Cleaning and Exploratory Data Analysis"
   ]
  },
  {
   "cell_type": "code",
   "execution_count": 70,
   "metadata": {
    "ExecuteTime": {
     "end_time": "2019-10-31T23:36:28.657068Z",
     "start_time": "2019-10-31T23:36:28.654650Z"
    },
    "scrolled": true
   },
   "outputs": [],
   "source": [
    "dataset_path = Path(\"LOL.csv\")\n",
    "# /data/2025_LoL_clean_stats.csv\n",
    "df = pd.read_csv(dataset_path, dtype={2: str}) \n",
    "df = clean_lol_data(df)[0]"
   ]
  },
  {
   "cell_type": "markdown",
   "metadata": {},
   "source": [
    "## Bivariate Analysis"
   ]
  },
  {
   "cell_type": "code",
   "execution_count": 91,
   "metadata": {},
   "outputs": [
    {
     "data": {
      "text/html": [
       "<div>\n",
       "<style scoped>\n",
       "    .dataframe tbody tr th:only-of-type {\n",
       "        vertical-align: middle;\n",
       "    }\n",
       "\n",
       "    .dataframe tbody tr th {\n",
       "        vertical-align: top;\n",
       "    }\n",
       "\n",
       "    .dataframe thead th {\n",
       "        text-align: right;\n",
       "    }\n",
       "</style>\n",
       "<table border=\"1\" class=\"dataframe\">\n",
       "  <thead>\n",
       "    <tr style=\"text-align: right;\">\n",
       "      <th></th>\n",
       "      <th>datacompleteness</th>\n",
       "      <th>url</th>\n",
       "      <th>league</th>\n",
       "      <th>year</th>\n",
       "      <th>...</th>\n",
       "      <th>monsterkillsenemyjungle</th>\n",
       "      <th>cspm</th>\n",
       "      <th>fb_missing</th>\n",
       "      <th>shuffled_missing</th>\n",
       "    </tr>\n",
       "    <tr>\n",
       "      <th>gameid</th>\n",
       "      <th></th>\n",
       "      <th></th>\n",
       "      <th></th>\n",
       "      <th></th>\n",
       "      <th></th>\n",
       "      <th></th>\n",
       "      <th></th>\n",
       "      <th></th>\n",
       "      <th></th>\n",
       "    </tr>\n",
       "  </thead>\n",
       "  <tbody>\n",
       "    <tr>\n",
       "      <th>LOLTMNT06_96169</th>\n",
       "      <td>complete</td>\n",
       "      <td>NaN</td>\n",
       "      <td>LFL2</td>\n",
       "      <td>2025</td>\n",
       "      <td>...</td>\n",
       "      <td>None</td>\n",
       "      <td>30.43</td>\n",
       "      <td>False</td>\n",
       "      <td>True</td>\n",
       "    </tr>\n",
       "    <tr>\n",
       "      <th>11715-11715_game_3</th>\n",
       "      <td>partial</td>\n",
       "      <td>https://lpl.qq.com/es/stats.shtml?bmid=11715</td>\n",
       "      <td>LPL</td>\n",
       "      <td>2025</td>\n",
       "      <td>...</td>\n",
       "      <td>False</td>\n",
       "      <td>8.22</td>\n",
       "      <td>False</td>\n",
       "      <td>True</td>\n",
       "    </tr>\n",
       "    <tr>\n",
       "      <th>LOLTMNT06_95187</th>\n",
       "      <td>complete</td>\n",
       "      <td>NaN</td>\n",
       "      <td>LFL2</td>\n",
       "      <td>2025</td>\n",
       "      <td>...</td>\n",
       "      <td>None</td>\n",
       "      <td>6.95</td>\n",
       "      <td>False</td>\n",
       "      <td>True</td>\n",
       "    </tr>\n",
       "    <tr>\n",
       "      <th>...</th>\n",
       "      <td>...</td>\n",
       "      <td>...</td>\n",
       "      <td>...</td>\n",
       "      <td>...</td>\n",
       "      <td>...</td>\n",
       "      <td>...</td>\n",
       "      <td>...</td>\n",
       "      <td>...</td>\n",
       "      <td>...</td>\n",
       "    </tr>\n",
       "    <tr>\n",
       "      <th>LOLTMNT06_121312</th>\n",
       "      <td>complete</td>\n",
       "      <td>NaN</td>\n",
       "      <td>CD</td>\n",
       "      <td>2025</td>\n",
       "      <td>...</td>\n",
       "      <td>None</td>\n",
       "      <td>9.30</td>\n",
       "      <td>False</td>\n",
       "      <td>True</td>\n",
       "    </tr>\n",
       "    <tr>\n",
       "      <th>LOLTMNT06_121312</th>\n",
       "      <td>complete</td>\n",
       "      <td>NaN</td>\n",
       "      <td>CD</td>\n",
       "      <td>2025</td>\n",
       "      <td>...</td>\n",
       "      <td>None</td>\n",
       "      <td>0.76</td>\n",
       "      <td>False</td>\n",
       "      <td>True</td>\n",
       "    </tr>\n",
       "    <tr>\n",
       "      <th>LOLTMNT02_269515</th>\n",
       "      <td>complete</td>\n",
       "      <td>NaN</td>\n",
       "      <td>LRS</td>\n",
       "      <td>2025</td>\n",
       "      <td>...</td>\n",
       "      <td>None</td>\n",
       "      <td>7.51</td>\n",
       "      <td>False</td>\n",
       "      <td>True</td>\n",
       "    </tr>\n",
       "  </tbody>\n",
       "</table>\n",
       "<p>3462 rows × 71 columns</p>\n",
       "</div>"
      ],
      "text/plain": [
       "                   datacompleteness  \\\n",
       "gameid                                \n",
       "LOLTMNT06_96169            complete   \n",
       "11715-11715_game_3          partial   \n",
       "LOLTMNT06_95187            complete   \n",
       "...                             ...   \n",
       "LOLTMNT06_121312           complete   \n",
       "LOLTMNT06_121312           complete   \n",
       "LOLTMNT02_269515           complete   \n",
       "\n",
       "                                                             url league  year  \\\n",
       "gameid                                                                          \n",
       "LOLTMNT06_96169                                              NaN   LFL2  2025   \n",
       "11715-11715_game_3  https://lpl.qq.com/es/stats.shtml?bmid=11715    LPL  2025   \n",
       "LOLTMNT06_95187                                              NaN   LFL2  2025   \n",
       "...                                                          ...    ...   ...   \n",
       "LOLTMNT06_121312                                             NaN     CD  2025   \n",
       "LOLTMNT06_121312                                             NaN     CD  2025   \n",
       "LOLTMNT02_269515                                             NaN    LRS  2025   \n",
       "\n",
       "                    ... monsterkillsenemyjungle   cspm fb_missing  \\\n",
       "gameid              ...                                             \n",
       "LOLTMNT06_96169     ...                    None  30.43      False   \n",
       "11715-11715_game_3  ...                   False   8.22      False   \n",
       "LOLTMNT06_95187     ...                    None   6.95      False   \n",
       "...                 ...                     ...    ...        ...   \n",
       "LOLTMNT06_121312    ...                    None   9.30      False   \n",
       "LOLTMNT06_121312    ...                    None   0.76      False   \n",
       "LOLTMNT02_269515    ...                    None   7.51      False   \n",
       "\n",
       "                    shuffled_missing  \n",
       "gameid                                \n",
       "LOLTMNT06_96169                 True  \n",
       "11715-11715_game_3              True  \n",
       "LOLTMNT06_95187                 True  \n",
       "...                              ...  \n",
       "LOLTMNT06_121312                True  \n",
       "LOLTMNT06_121312                True  \n",
       "LOLTMNT02_269515                True  \n",
       "\n",
       "[3462 rows x 71 columns]"
      ]
     },
     "execution_count": 91,
     "metadata": {},
     "output_type": "execute_result"
    }
   ],
   "source": [
    "shuffled = df['fb_missing'].sample(frac=1, replace=False, random_state=None).values\n",
    "shuffled_df = df.copy()\n",
    "shuffled_df['shuffled_missing'] = shuffled\n",
    "shuffled_df[shuffled_df['shuffled_missing'] == True]"
   ]
  },
  {
   "cell_type": "markdown",
   "metadata": {},
   "source": [
    "## Step 3: Assessment of Missingness"
   ]
  },
  {
   "cell_type": "code",
   "execution_count": 96,
   "metadata": {},
   "outputs": [
    {
     "data": {
      "text/plain": [
       "np.float64(0.0)"
      ]
     },
     "execution_count": 96,
     "metadata": {},
     "output_type": "execute_result"
    }
   ],
   "source": [
    "df['missing'] = df['teamid'].isna()\n",
    "\n",
    "actual_missing = df[df['missing'] == True]['league'].value_counts(normalize=True)\n",
    "actual_present = df[df['missing'] == False]['league'].value_counts(normalize=True)\n",
    "\n",
    "\n",
    "combined = pd.concat([actual_missing, actual_present], axis=1).fillna(0)\n",
    "combined.columns = ['missing', 'present']\n",
    "\n",
    "observed = 0.5 * np.sum(np.abs(combined['missing'] - combined['present']))\n",
    "\n",
    "n_permutations = 1000\n",
    "tvd_stats = []\n",
    "\n",
    "for _ in range(n_permutations):\n",
    "    \n",
    "    shuffled = np.random.permutation(df['missing'])\n",
    "    shuffled_df = df.copy()\n",
    "    shuffled_df['shuffled_missing'] = shuffled\n",
    "\n",
    "    dist_missing = shuffled_df[shuffled_df['shuffled_missing'] == True ]['league'].value_counts(normalize=True)\n",
    "    dist_present = shuffled_df[shuffled_df['shuffled_missing'] == False ]['league'].value_counts(normalize=True)\n",
    "    \n",
    "    comb = pd.concat([dist_missing, dist_present], axis=1).fillna(0)\n",
    "    comb.columns = ['missing', 'present']\n",
    "    stat = 0.5 * np.sum(np.abs(comb['missing'] - comb['present']))\n",
    "    tvd_stats.append(stat)\n",
    "\n",
    "\n",
    "p_val = np.mean(np.array(tvd_stats) >= observed)\n",
    "p_val"
   ]
  },
  {
   "cell_type": "markdown",
   "metadata": {},
   "source": [
    "## Missingness Dependency"
   ]
  },
  {
   "cell_type": "code",
   "execution_count": null,
   "metadata": {
    "ExecuteTime": {
     "end_time": "2019-10-31T23:36:28.662099Z",
     "start_time": "2019-10-31T23:36:28.660016Z"
    }
   },
   "outputs": [],
   "source": []
  },
  {
   "cell_type": "markdown",
   "metadata": {},
   "source": [
    "## Step 4: Hypothesis Testing"
   ]
  },
  {
   "cell_type": "code",
   "execution_count": null,
   "metadata": {
    "ExecuteTime": {
     "end_time": "2019-10-31T23:36:28.666489Z",
     "start_time": "2019-10-31T23:36:28.664381Z"
    }
   },
   "outputs": [],
   "source": [
    "# TODO"
   ]
  },
  {
   "cell_type": "markdown",
   "metadata": {},
   "source": [
    "## Step 5: Framing a Prediction Problem"
   ]
  },
  {
   "cell_type": "code",
   "execution_count": null,
   "metadata": {
    "ExecuteTime": {
     "end_time": "2019-10-31T23:36:28.657068Z",
     "start_time": "2019-10-31T23:36:28.654650Z"
    }
   },
   "outputs": [],
   "source": [
    "# TODO"
   ]
  },
  {
   "cell_type": "markdown",
   "metadata": {},
   "source": [
    "## Step 6: Baseline Model"
   ]
  },
  {
   "cell_type": "code",
   "execution_count": null,
   "metadata": {
    "ExecuteTime": {
     "end_time": "2019-10-31T23:36:28.662099Z",
     "start_time": "2019-10-31T23:36:28.660016Z"
    }
   },
   "outputs": [],
   "source": [
    "# TODO"
   ]
  },
  {
   "cell_type": "markdown",
   "metadata": {},
   "source": [
    "## Step 7: Final Model"
   ]
  },
  {
   "cell_type": "code",
   "execution_count": null,
   "metadata": {
    "ExecuteTime": {
     "end_time": "2019-10-31T23:36:28.662099Z",
     "start_time": "2019-10-31T23:36:28.660016Z"
    }
   },
   "outputs": [],
   "source": [
    "# TODO"
   ]
  },
  {
   "cell_type": "markdown",
   "metadata": {},
   "source": [
    "## Step 8: Fairness Analysis"
   ]
  },
  {
   "cell_type": "code",
   "execution_count": null,
   "metadata": {
    "ExecuteTime": {
     "end_time": "2019-10-31T23:36:28.666489Z",
     "start_time": "2019-10-31T23:36:28.664381Z"
    }
   },
   "outputs": [],
   "source": [
    "# TODO"
   ]
  }
 ],
 "metadata": {
  "kernelspec": {
   "display_name": "Python 3 (ipykernel)",
   "language": "python",
   "name": "python3"
  },
  "language_info": {
   "codemirror_mode": {
    "name": "ipython",
    "version": 3
   },
   "file_extension": ".py",
   "mimetype": "text/x-python",
   "name": "python",
   "nbconvert_exporter": "python",
   "pygments_lexer": "ipython3",
   "version": "3.12.10"
  }
 },
 "nbformat": 4,
 "nbformat_minor": 4
}
