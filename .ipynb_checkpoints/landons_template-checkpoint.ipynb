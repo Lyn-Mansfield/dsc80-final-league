{
 "cells": [
  {
   "cell_type": "markdown",
   "metadata": {},
   "source": [
    "# League of Legends, does the ban stage matter?\n",
    "\n",
    "**Name(s)**: Landon Marchetti and Lyn Mansfield\n",
    "\n",
    "**Website Link**: (your website link)"
   ]
  },
  {
   "cell_type": "code",
   "execution_count": 9,
   "metadata": {
    "ExecuteTime": {
     "end_time": "2019-10-31T23:36:28.652554Z",
     "start_time": "2019-10-31T23:36:27.180520Z"
    }
   },
   "outputs": [],
   "source": [
    "import pandas as pd\n",
    "import numpy as np\n",
    "from pathlib import Path\n",
    "import os\n",
    "import plotly.express as px\n",
    "import plotly.io as pio\n",
    "pio.renderers.default = 'iframe'\n",
    "\n",
    "pd.options.plotting.backend = 'plotly'\n",
    "from dsc80_utils import * # Feel free to uncomment and use this.\n",
    "from data_cleaner import *"
   ]
  },
  {
   "cell_type": "markdown",
   "metadata": {},
   "source": [
    "## Step 1: Introduction\n",
    "\n",
    "Provide an introduction to your dataset, and clearly state the one question your project is centered around. Why should readers of your website care about the dataset and your question specifically? Report the number of rows in the dataset, the names of the columns that are relevant to your question, and descriptions of those relevant columns.\n",
    "\n",
    "Which legends are the most meta-defining? Difference in win rate between when it's banned vs when it's not\n",
    "\n",
    "Which characters are the most banned? Which characters are the best?\n",
    "\n",
    "What archetype of character's performance matters the most? Which archetype get banned most?\n",
    "\n",
    "Central Question: \"How do character bans and archetypes influence competitive performance and define the meta in League of Legends?\"\n",
    "\n",
    "Paragraph 1(General intro): League of Legends is one of the most famous multiplayer online battle arena games developed by Riot Games on October 27, 2009. With close to 120 million monthly active users and 40 million daily users worldwide, the game has become one of the most dominant games in the MOBA world. Well be working with a dataset developed by Oracle’s Elixir, which contains match data from professional League of Legends esports games played in 2022. It’s filled with detailed statistics from real esports games, giving us insight into how players perform, how teams operate, and what affects the outcome of matches.\n",
    "\n",
    "\n",
    "\n",
    "Paragraph 2(question intro): One of the main aspects of League of Legends professional play is the initial ban phase. In professional League of Legends, the ban phase involves both teams selecting champions to be removed from the game's pool, preventing them from being picked by either side. This phase alternates between each team banning a champion, with each team having a total of 10 bans. Teams use the ban phase to prevent the enemy team from picking strong or counter-picking champions. \n",
    "\n",
    "The central question we will be looking at further is: How do character bans and archetypes influence competitive performance and define the meta in League of Legends? This question aims to explore how the types of champions that are banned or picked—especially based on their archetypes—affect individual and team performance in professional League of Legends matches.\n",
    "\n",
    "\n",
    "Paragraph 3(column intro):\n",
    "The Oracle’s Elixir dataset provides an extensive number of columns, as well as 60180 rows that consist of a group of 10 rows, 5 for each team's players and then 2 afterwards of the team stats for each team. The columns the most relevant to our central question are the following:\n",
    "game id: This column is a code that is used as a unique identifier for each match that is played. \n",
    "damagemitigatedperminute: This column refers to the average of the amount of damage that is reduced or blocked by defensive abilities, shields, or other mechanisms by a player or team per minute.\n",
    "player id: This column is a code that is used as a unique identifier for each player that has participated in 1 or more matches. \n",
    "team id: This column is a code that is used as a unique identifier for each team that has participated in 1 or more matches. \n",
    "champion: A champion is a playable character that players control during the game. There are 170 champions with unique abilities, stats, and roles.\n",
    "ban1: This column represents the team’s first champion that they picked to not be able to be used for the match. \n",
    "ban2: This column represents the team’s second champion that they picked to not be able to be used for the match. \n",
    "ban3: This column represents the team’s third champion that they picked to not be able to be used for the match. \n",
    "ban4: This column represents the team’s fourth champion that they picked to not be able to be used for the match. \n",
    "ban5: This column represents the team’s fifth champion that they picked to not be able to be used for the match. \n",
    "result: This column is either Won or Lost and represents whether or not the individual player or team won the match. \n",
    "kills: This column gives a quantity of the number of enemy champions the player, or collective team, defeated in the match. \n",
    "deaths: This column gives a quantity of the amount of times the enemy team defeats the players, or collective teams champions in a match. \n",
    "assists: This column gives us a quantity of the amount of times the player, or collective team, contributed to defeating an enemy champion while not getting the kill themselves. \n",
    "dpm: This column shows us the average damage a player, or collective team, does to an enemy champion per minute. \n",
    "earned gold: This column shows us the amount of gold a champion earned, which is earned by killing or assisting in killing enemy champions. Champions that have killed many enemies without dying are worth more gold.\n",
    "position: This column tells us the archetype of the champion that the player has chosen, can be Top, Jungle, Mid, Bot (ADC), and Support. \n",
    "damaged share: This column refers to the percentage of total damage a champion deals to enemy champions within a team fight or over the course of a game. \n"
   ]
  },
  {
   "cell_type": "code",
   "execution_count": null,
   "metadata": {},
   "outputs": [],
   "source": []
  },
  {
   "cell_type": "markdown",
   "metadata": {},
   "source": [
    "## Step 2: Data Cleaning and Exploratory Data Analysis"
   ]
  },
  {
   "cell_type": "code",
   "execution_count": 10,
   "metadata": {
    "ExecuteTime": {
     "end_time": "2019-10-31T23:36:28.657068Z",
     "start_time": "2019-10-31T23:36:28.654650Z"
    },
    "scrolled": true
   },
   "outputs": [],
   "source": [
    "dataset_path = Path(\"LOL.csv\")\n",
    "# /data/2025_LoL_clean_stats.csv\n",
    "df = pd.read_csv(dataset_path, dtype={2: str}) \n",
    "df = clean_lol_data(df)[0]"
   ]
  },
  {
   "cell_type": "markdown",
   "metadata": {},
   "source": [
    "## Bivariate Analysis"
   ]
  },
  {
   "cell_type": "code",
   "execution_count": null,
   "metadata": {},
   "outputs": [],
   "source": []
  },
  {
   "cell_type": "markdown",
   "metadata": {},
   "source": [
    "## Step 3: Assessment of Missingness"
   ]
  },
  {
   "cell_type": "code",
   "execution_count": 14,
   "metadata": {},
   "outputs": [
    {
     "data": {
      "text/plain": [
       "np.float64(0.0)"
      ]
     },
     "execution_count": 14,
     "metadata": {},
     "output_type": "execute_result"
    }
   ],
   "source": [
    "df['missing'] = df['teamid'].isna()\n",
    "\n",
    "actual_missing = df[df['missing'] == True]['league'].value_counts(normalize=True)\n",
    "actual_present = df[df['missing'] == False]['league'].value_counts(normalize=True)\n",
    "\n",
    "\n",
    "combined = pd.concat([actual_missing, actual_present], axis=1).fillna(0)\n",
    "combined.columns = ['missing', 'present']\n",
    "\n",
    "observed = 0.5 * np.sum(np.abs(combined['missing'] - combined['present']))\n",
    "\n",
    "n_permutations = 1000\n",
    "tvd_stats = []\n",
    "\n",
    "for _ in range(n_permutations):\n",
    "    \n",
    "    shuffled = np.random.permutation(df['missing'])\n",
    "    shuffled_df = df.copy()\n",
    "    shuffled_df['shuffled_missing'] = shuffled\n",
    "\n",
    "    dist_missing = shuffled_df[shuffled_df['shuffled_missing'] == True ]['league'].value_counts(normalize=True)\n",
    "    dist_present = shuffled_df[shuffled_df['shuffled_missing'] == False ]['league'].value_counts(normalize=True)\n",
    "    \n",
    "    comb = pd.concat([dist_missing, dist_present], axis=1).fillna(0)\n",
    "    comb.columns = ['missing', 'present']\n",
    "    stat = 0.5 * np.sum(np.abs(comb['missing'] - comb['present']))\n",
    "    tvd_stats.append(stat)\n",
    "\n",
    "\n",
    "p_val = np.mean(np.array(tvd_stats) >= observed)\n",
    "p_val"
   ]
  },
  {
   "cell_type": "code",
   "execution_count": 17,
   "metadata": {},
   "outputs": [
    {
     "data": {
      "text/html": [
       "<iframe\n",
       "    scrolling=\"no\"\n",
       "    width=\"100%\"\n",
       "    height=\"545px\"\n",
       "    src=\"iframe_figures/figure_17.html\"\n",
       "    frameborder=\"0\"\n",
       "    allowfullscreen\n",
       "></iframe>\n"
      ]
     },
     "metadata": {},
     "output_type": "display_data"
    }
   ],
   "source": [
    "combined.plot(kind='barh', title='League by Missingness of teamid', barmode='group')"
   ]
  },
  {
   "cell_type": "markdown",
   "metadata": {},
   "source": [
    "## Missingness Dependency, not dependent"
   ]
  },
  {
   "cell_type": "code",
   "execution_count": 15,
   "metadata": {
    "ExecuteTime": {
     "end_time": "2019-10-31T23:36:28.662099Z",
     "start_time": "2019-10-31T23:36:28.660016Z"
    }
   },
   "outputs": [
    {
     "data": {
      "text/plain": [
       "np.float64(0.13)"
      ]
     },
     "execution_count": 15,
     "metadata": {},
     "output_type": "execute_result"
    }
   ],
   "source": [
    "df['missing'] = df['teamid'].isna()\n",
    "\n",
    "actual_missing_2 = df[df['missing'] == True]['side'].value_counts(normalize=True)\n",
    "actual_present_2 = df[df['missing'] == False]['side'].value_counts(normalize=True)\n",
    "\n",
    "\n",
    "combined_2 = pd.concat([actual_missing_2, actual_present_2], axis=1).fillna(0)\n",
    "combined_2.columns = ['missing', 'present']\n",
    "\n",
    "observed_2 = 0.5 * np.sum(np.abs(combined_2['missing'] - combined_2['present']))\n",
    "\n",
    "n_permutations = 1000\n",
    "tvd_stats_2 = []\n",
    "\n",
    "for _ in range(n_permutations):\n",
    "    \n",
    "    shuffled_2 = np.random.permutation(df['missing'])\n",
    "    shuffled_df_2 = df.copy()\n",
    "    shuffled_df_2['shuffled_missing'] = shuffled_2\n",
    "\n",
    "    dist_missing_2 = shuffled_df_2[shuffled_df_2['shuffled_missing'] == True ]['side'].value_counts(normalize=True)\n",
    "    dist_present_2 = shuffled_df_2[shuffled_df_2['shuffled_missing'] == False ]['side'].value_counts(normalize=True)\n",
    "    \n",
    "    comb_2 = pd.concat([dist_missing_2, dist_present_2], axis=1).fillna(0)\n",
    "    comb_2.columns = ['missing', 'present']\n",
    "    stat_2 = 0.5 * np.sum(np.abs(comb_2['missing'] - comb_2['present']))\n",
    "    tvd_stats_2.append(stat_2)\n",
    "\n",
    "\n",
    "p_val_2 = np.mean(np.array(tvd_stats_2) >= observed_2)\n",
    "p_val_2"
   ]
  },
  {
   "cell_type": "code",
   "execution_count": 18,
   "metadata": {},
   "outputs": [
    {
     "data": {
      "text/html": [
       "<iframe\n",
       "    scrolling=\"no\"\n",
       "    width=\"100%\"\n",
       "    height=\"545px\"\n",
       "    src=\"iframe_figures/figure_18.html\"\n",
       "    frameborder=\"0\"\n",
       "    allowfullscreen\n",
       "></iframe>\n"
      ]
     },
     "metadata": {},
     "output_type": "display_data"
    }
   ],
   "source": [
    "combined_2.plot(kind='barh', title='League by Missingness of teamid', barmode='group')"
   ]
  },
  {
   "cell_type": "markdown",
   "metadata": {},
   "source": [
    "## Step 4: Hypothesis Testing"
   ]
  },
  {
   "cell_type": "code",
   "execution_count": null,
   "metadata": {
    "ExecuteTime": {
     "end_time": "2019-10-31T23:36:28.666489Z",
     "start_time": "2019-10-31T23:36:28.664381Z"
    }
   },
   "outputs": [],
   "source": [
    "# TODO"
   ]
  },
  {
   "cell_type": "markdown",
   "metadata": {},
   "source": [
    "## Step 5: Framing a Prediction Problem"
   ]
  },
  {
   "cell_type": "code",
   "execution_count": null,
   "metadata": {
    "ExecuteTime": {
     "end_time": "2019-10-31T23:36:28.657068Z",
     "start_time": "2019-10-31T23:36:28.654650Z"
    }
   },
   "outputs": [],
   "source": [
    "# will start tommorrow"
   ]
  },
  {
   "cell_type": "markdown",
   "metadata": {},
   "source": [
    "## Step 6: Baseline Model"
   ]
  },
  {
   "cell_type": "code",
   "execution_count": null,
   "metadata": {
    "ExecuteTime": {
     "end_time": "2019-10-31T23:36:28.662099Z",
     "start_time": "2019-10-31T23:36:28.660016Z"
    }
   },
   "outputs": [],
   "source": [
    "# TODO"
   ]
  },
  {
   "cell_type": "markdown",
   "metadata": {},
   "source": [
    "## Step 7: Final Model"
   ]
  },
  {
   "cell_type": "code",
   "execution_count": null,
   "metadata": {
    "ExecuteTime": {
     "end_time": "2019-10-31T23:36:28.662099Z",
     "start_time": "2019-10-31T23:36:28.660016Z"
    }
   },
   "outputs": [],
   "source": [
    "# TODO"
   ]
  },
  {
   "cell_type": "markdown",
   "metadata": {},
   "source": [
    "## Step 8: Fairness Analysis"
   ]
  },
  {
   "cell_type": "code",
   "execution_count": null,
   "metadata": {
    "ExecuteTime": {
     "end_time": "2019-10-31T23:36:28.666489Z",
     "start_time": "2019-10-31T23:36:28.664381Z"
    }
   },
   "outputs": [],
   "source": [
    "# TODO"
   ]
  }
 ],
 "metadata": {
  "kernelspec": {
   "display_name": "Python 3 (ipykernel)",
   "language": "python",
   "name": "python3"
  },
  "language_info": {
   "codemirror_mode": {
    "name": "ipython",
    "version": 3
   },
   "file_extension": ".py",
   "mimetype": "text/x-python",
   "name": "python",
   "nbconvert_exporter": "python",
   "pygments_lexer": "ipython3",
   "version": "3.12.10"
  }
 },
 "nbformat": 4,
 "nbformat_minor": 4
}
