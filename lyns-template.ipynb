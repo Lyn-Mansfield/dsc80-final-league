{
 "cells": [
  {
   "cell_type": "markdown",
   "metadata": {},
   "source": [
    "# Your Title Here\n",
    "\n",
    "**Name(s)**: Landon Marchetti and Lyn Mansfield\n",
    "\n",
    "**Website Link**: (your website link)"
   ]
  },
  {
   "cell_type": "code",
   "execution_count": 1,
   "metadata": {
    "ExecuteTime": {
     "end_time": "2019-10-31T23:36:28.652554Z",
     "start_time": "2019-10-31T23:36:27.180520Z"
    }
   },
   "outputs": [],
   "source": [
    "import pandas as pd\n",
    "import numpy as np\n",
    "from pathlib import Path\n",
    "from matplotlib.backends.backend_pdf import PdfPages\n",
    "\n",
    "import plotly.express as px\n",
    "pd.options.plotting.backend = 'plotly'\n",
    "\n",
    "from dsc80_utils import * # Feel free to uncomment and use this."
   ]
  },
  {
   "cell_type": "code",
   "execution_count": 2,
   "metadata": {},
   "outputs": [],
   "source": [
    "%load_ext autoreload\n",
    "%autoreload 2"
   ]
  },
  {
   "cell_type": "markdown",
   "metadata": {},
   "source": [
    "## Step 1: Introduction"
   ]
  },
  {
   "cell_type": "markdown",
   "metadata": {},
   "source": [
    "# TODO\n",
    "\n",
    "Which legends are the most meta-defining? Difference in win rate between when it's banned vs when it's not\n",
    "\n",
    "How important is the first kill of a game? \n",
    "- not important at all actually lol, the winrates are all the same no matter what\n",
    "\n",
    "Which characters are the most banned? Which characters are the best?\n",
    "\n",
    "What archetype of character's performance matters the most?\n",
    "\n",
    "How important is early success?"
   ]
  },
  {
   "cell_type": "markdown",
   "metadata": {},
   "source": [
    "## Step 2: Data Cleaning and Exploratory Data Analysis"
   ]
  },
  {
   "cell_type": "markdown",
   "metadata": {},
   "source": [
    "What are \"partial\" rows missing from their data? <== me!"
   ]
  },
  {
   "cell_type": "code",
   "execution_count": 195,
   "metadata": {
    "ExecuteTime": {
     "end_time": "2019-10-31T23:36:28.657068Z",
     "start_time": "2019-10-31T23:36:28.654650Z"
    }
   },
   "outputs": [
    {
     "data": {
      "text/html": [
       "<div>\n",
       "<style scoped>\n",
       "    .dataframe tbody tr th:only-of-type {\n",
       "        vertical-align: middle;\n",
       "    }\n",
       "\n",
       "    .dataframe tbody tr th {\n",
       "        vertical-align: top;\n",
       "    }\n",
       "\n",
       "    .dataframe thead th {\n",
       "        text-align: right;\n",
       "    }\n",
       "</style>\n",
       "<table border=\"1\" class=\"dataframe\">\n",
       "  <thead>\n",
       "    <tr style=\"text-align: right;\">\n",
       "      <th></th>\n",
       "      <th>Unnamed: 0</th>\n",
       "      <th>gameid</th>\n",
       "      <th>datacompleteness</th>\n",
       "      <th>url</th>\n",
       "      <th>...</th>\n",
       "      <th>monsterkills</th>\n",
       "      <th>monsterkillsownjungle</th>\n",
       "      <th>monsterkillsenemyjungle</th>\n",
       "      <th>cspm</th>\n",
       "    </tr>\n",
       "  </thead>\n",
       "  <tbody>\n",
       "    <tr>\n",
       "      <th>0</th>\n",
       "      <td>0</td>\n",
       "      <td>LOLTMNT03_179647</td>\n",
       "      <td>complete</td>\n",
       "      <td>NaN</td>\n",
       "      <td>...</td>\n",
       "      <td>0</td>\n",
       "      <td>-1</td>\n",
       "      <td>-1</td>\n",
       "      <td>8.82</td>\n",
       "    </tr>\n",
       "    <tr>\n",
       "      <th>1</th>\n",
       "      <td>1</td>\n",
       "      <td>LOLTMNT03_179647</td>\n",
       "      <td>complete</td>\n",
       "      <td>NaN</td>\n",
       "      <td>...</td>\n",
       "      <td>132</td>\n",
       "      <td>-1</td>\n",
       "      <td>-1</td>\n",
       "      <td>5.39</td>\n",
       "    </tr>\n",
       "    <tr>\n",
       "      <th>2</th>\n",
       "      <td>2</td>\n",
       "      <td>LOLTMNT03_179647</td>\n",
       "      <td>complete</td>\n",
       "      <td>NaN</td>\n",
       "      <td>...</td>\n",
       "      <td>0</td>\n",
       "      <td>-1</td>\n",
       "      <td>-1</td>\n",
       "      <td>7.88</td>\n",
       "    </tr>\n",
       "    <tr>\n",
       "      <th>...</th>\n",
       "      <td>...</td>\n",
       "      <td>...</td>\n",
       "      <td>...</td>\n",
       "      <td>...</td>\n",
       "      <td>...</td>\n",
       "      <td>...</td>\n",
       "      <td>...</td>\n",
       "      <td>...</td>\n",
       "      <td>...</td>\n",
       "    </tr>\n",
       "    <tr>\n",
       "      <th>60177</th>\n",
       "      <td>60177</td>\n",
       "      <td>LOLTMNT06_120342</td>\n",
       "      <td>complete</td>\n",
       "      <td>NaN</td>\n",
       "      <td>...</td>\n",
       "      <td>0</td>\n",
       "      <td>-1</td>\n",
       "      <td>-1</td>\n",
       "      <td>1.10</td>\n",
       "    </tr>\n",
       "    <tr>\n",
       "      <th>60178</th>\n",
       "      <td>60178</td>\n",
       "      <td>LOLTMNT06_120342</td>\n",
       "      <td>complete</td>\n",
       "      <td>NaN</td>\n",
       "      <td>...</td>\n",
       "      <td>159</td>\n",
       "      <td>-1</td>\n",
       "      <td>-1</td>\n",
       "      <td>34.30</td>\n",
       "    </tr>\n",
       "    <tr>\n",
       "      <th>60179</th>\n",
       "      <td>60179</td>\n",
       "      <td>LOLTMNT06_120342</td>\n",
       "      <td>complete</td>\n",
       "      <td>NaN</td>\n",
       "      <td>...</td>\n",
       "      <td>222</td>\n",
       "      <td>-1</td>\n",
       "      <td>-1</td>\n",
       "      <td>36.61</td>\n",
       "    </tr>\n",
       "  </tbody>\n",
       "</table>\n",
       "<p>60180 rows × 71 columns</p>\n",
       "</div>"
      ],
      "text/plain": [
       "       Unnamed: 0            gameid datacompleteness  url  ... monsterkills  \\\n",
       "0               0  LOLTMNT03_179647         complete  NaN  ...            0   \n",
       "1               1  LOLTMNT03_179647         complete  NaN  ...          132   \n",
       "2               2  LOLTMNT03_179647         complete  NaN  ...            0   \n",
       "...           ...               ...              ...  ...  ...          ...   \n",
       "60177       60177  LOLTMNT06_120342         complete  NaN  ...            0   \n",
       "60178       60178  LOLTMNT06_120342         complete  NaN  ...          159   \n",
       "60179       60179  LOLTMNT06_120342         complete  NaN  ...          222   \n",
       "\n",
       "       monsterkillsownjungle monsterkillsenemyjungle   cspm  \n",
       "0                         -1                      -1   8.82  \n",
       "1                         -1                      -1   5.39  \n",
       "2                         -1                      -1   7.88  \n",
       "...                      ...                     ...    ...  \n",
       "60177                     -1                      -1   1.10  \n",
       "60178                     -1                      -1  34.30  \n",
       "60179                     -1                      -1  36.61  \n",
       "\n",
       "[60180 rows x 71 columns]"
      ]
     },
     "execution_count": 195,
     "metadata": {},
     "output_type": "execute_result"
    }
   ],
   "source": [
    "# TODO\n",
    "\n",
    "from pathlib import Path\n",
    "\n",
    "dataset_path = Path(\"./data/2025_LoL_clean_stats.csv\")\n",
    "# /data/2025_LoL_clean_stats.csv\n",
    "data = pd.read_csv(dataset_path)\n",
    "data"
   ]
  },
  {
   "cell_type": "code",
   "execution_count": 182,
   "metadata": {},
   "outputs": [
    {
     "data": {
      "text/html": [
       "<div>\n",
       "<style scoped>\n",
       "    .dataframe tbody tr th:only-of-type {\n",
       "        vertical-align: middle;\n",
       "    }\n",
       "\n",
       "    .dataframe tbody tr th {\n",
       "        vertical-align: top;\n",
       "    }\n",
       "\n",
       "    .dataframe thead th {\n",
       "        text-align: right;\n",
       "    }\n",
       "</style>\n",
       "<table border=\"1\" class=\"dataframe\">\n",
       "  <thead>\n",
       "    <tr style=\"text-align: right;\">\n",
       "      <th></th>\n",
       "      <th>gameid</th>\n",
       "      <th>datacompleteness</th>\n",
       "      <th>url</th>\n",
       "      <th>league</th>\n",
       "      <th>...</th>\n",
       "      <th>monsterkills</th>\n",
       "      <th>monsterkillsownjungle</th>\n",
       "      <th>monsterkillsenemyjungle</th>\n",
       "      <th>cspm</th>\n",
       "    </tr>\n",
       "  </thead>\n",
       "  <tbody>\n",
       "    <tr>\n",
       "      <th>0</th>\n",
       "      <td>LOLTMNT03_179647</td>\n",
       "      <td>complete</td>\n",
       "      <td>NaN</td>\n",
       "      <td>LFL2</td>\n",
       "      <td>...</td>\n",
       "      <td>0</td>\n",
       "      <td>-1</td>\n",
       "      <td>-1</td>\n",
       "      <td>8.82</td>\n",
       "    </tr>\n",
       "    <tr>\n",
       "      <th>1</th>\n",
       "      <td>LOLTMNT03_179647</td>\n",
       "      <td>complete</td>\n",
       "      <td>NaN</td>\n",
       "      <td>LFL2</td>\n",
       "      <td>...</td>\n",
       "      <td>132</td>\n",
       "      <td>-1</td>\n",
       "      <td>-1</td>\n",
       "      <td>5.39</td>\n",
       "    </tr>\n",
       "    <tr>\n",
       "      <th>2</th>\n",
       "      <td>LOLTMNT03_179647</td>\n",
       "      <td>complete</td>\n",
       "      <td>NaN</td>\n",
       "      <td>LFL2</td>\n",
       "      <td>...</td>\n",
       "      <td>0</td>\n",
       "      <td>-1</td>\n",
       "      <td>-1</td>\n",
       "      <td>7.88</td>\n",
       "    </tr>\n",
       "    <tr>\n",
       "      <th>...</th>\n",
       "      <td>...</td>\n",
       "      <td>...</td>\n",
       "      <td>...</td>\n",
       "      <td>...</td>\n",
       "      <td>...</td>\n",
       "      <td>...</td>\n",
       "      <td>...</td>\n",
       "      <td>...</td>\n",
       "      <td>...</td>\n",
       "    </tr>\n",
       "    <tr>\n",
       "      <th>60177</th>\n",
       "      <td>LOLTMNT06_120342</td>\n",
       "      <td>complete</td>\n",
       "      <td>NaN</td>\n",
       "      <td>CD</td>\n",
       "      <td>...</td>\n",
       "      <td>0</td>\n",
       "      <td>-1</td>\n",
       "      <td>-1</td>\n",
       "      <td>1.10</td>\n",
       "    </tr>\n",
       "    <tr>\n",
       "      <th>60178</th>\n",
       "      <td>LOLTMNT06_120342</td>\n",
       "      <td>complete</td>\n",
       "      <td>NaN</td>\n",
       "      <td>CD</td>\n",
       "      <td>...</td>\n",
       "      <td>159</td>\n",
       "      <td>-1</td>\n",
       "      <td>-1</td>\n",
       "      <td>34.30</td>\n",
       "    </tr>\n",
       "    <tr>\n",
       "      <th>60179</th>\n",
       "      <td>LOLTMNT06_120342</td>\n",
       "      <td>complete</td>\n",
       "      <td>NaN</td>\n",
       "      <td>CD</td>\n",
       "      <td>...</td>\n",
       "      <td>222</td>\n",
       "      <td>-1</td>\n",
       "      <td>-1</td>\n",
       "      <td>36.61</td>\n",
       "    </tr>\n",
       "  </tbody>\n",
       "</table>\n",
       "<p>60180 rows × 70 columns</p>\n",
       "</div>"
      ],
      "text/plain": [
       "                 gameid datacompleteness  url league  ...  monsterkills  \\\n",
       "0      LOLTMNT03_179647         complete  NaN   LFL2  ...             0   \n",
       "1      LOLTMNT03_179647         complete  NaN   LFL2  ...           132   \n",
       "2      LOLTMNT03_179647         complete  NaN   LFL2  ...             0   \n",
       "...                 ...              ...  ...    ...  ...           ...   \n",
       "60177  LOLTMNT06_120342         complete  NaN     CD  ...             0   \n",
       "60178  LOLTMNT06_120342         complete  NaN     CD  ...           159   \n",
       "60179  LOLTMNT06_120342         complete  NaN     CD  ...           222   \n",
       "\n",
       "      monsterkillsownjungle  monsterkillsenemyjungle   cspm  \n",
       "0                        -1                       -1   8.82  \n",
       "1                        -1                       -1   5.39  \n",
       "2                        -1                       -1   7.88  \n",
       "...                     ...                      ...    ...  \n",
       "60177                    -1                       -1   1.10  \n",
       "60178                    -1                       -1  34.30  \n",
       "60179                    -1                       -1  36.61  \n",
       "\n",
       "[60180 rows x 70 columns]"
      ]
     },
     "execution_count": 182,
     "metadata": {},
     "output_type": "execute_result"
    }
   ],
   "source": [
    "# for boolean columns, give special treatment\n",
    "boolean_columns = ['firstblood', 'firstbloodkill', 'firstbloodassist', 'firstbloodvictim']\n",
    "def transform_int_to_bool(x):\n",
    "    if x == 1:\n",
    "        return True\n",
    "    if x == 0:\n",
    "        return False\n",
    "for column in boolean_columns:\n",
    "    data[column] = data[column].apply(lambda x: transform_int_to_bool(x) if x >= 0 else np.nan)\n",
    "\n",
    "# clearly label if players won or lost\n",
    "data['result'] = data['result'].apply(lambda x: 'Won' if x == 1 else 'Lost')\n",
    "\n",
    "data"
   ]
  },
  {
   "cell_type": "code",
   "execution_count": 186,
   "metadata": {},
   "outputs": [],
   "source": [
    "data.to_csv(\"2025_LoL_clean_stats.csv\")"
   ]
  },
  {
   "cell_type": "code",
   "execution_count": 188,
   "metadata": {},
   "outputs": [
    {
     "data": {
      "text/html": [
       "<iframe\n",
       "    scrolling=\"no\"\n",
       "    width=\"100%\"\n",
       "    height=\"545px\"\n",
       "    src=\"iframe_figures/figure_188.html\"\n",
       "    frameborder=\"0\"\n",
       "    allowfullscreen\n",
       "></iframe>\n"
      ]
     },
     "metadata": {},
     "output_type": "display_data"
    }
   ],
   "source": [
    "type_frequencies = data.dtypes.value_counts()\n",
    "type_frequencies.index = type_frequencies.index.map(str)\n",
    "fig = px.bar(type_frequencies, \n",
    "\tlabels={'index': 'Data type', 'value': 'Frequency'}\n",
    "\t)\n",
    "fig.update_layout(\n",
    "    title={\n",
    "        'text': 'Frequencies of Relevant Data Types',\n",
    "        'font': {'size': 24}\n",
    "    }\n",
    ")\n",
    "fig.show()"
   ]
  },
  {
   "cell_type": "code",
   "execution_count": 187,
   "metadata": {},
   "outputs": [
    {
     "data": {
      "text/html": [
       "<iframe\n",
       "    scrolling=\"no\"\n",
       "    width=\"100%\"\n",
       "    height=\"545px\"\n",
       "    src=\"iframe_figures/figure_187.html\"\n",
       "    frameborder=\"0\"\n",
       "    allowfullscreen\n",
       "></iframe>\n"
      ]
     },
     "metadata": {},
     "output_type": "display_data"
    }
   ],
   "source": [
    "num_missing = data.apply(pd.isna).sum()\n",
    "num_missing = num_missing / data.shape[0] * 100\n",
    "\n",
    "fig = px.bar(num_missing[num_missing != 0].sort_values(), \n",
    "\tlabels={'index': 'Column name', 'value': '% missing'},\n",
    "\ttitle='Data missing from partial rows'\n",
    "\t)\n",
    "fig.show()"
   ]
  },
  {
   "cell_type": "markdown",
   "metadata": {},
   "source": [
    "## Step 3: Assessment of Missingness"
   ]
  },
  {
   "cell_type": "code",
   "execution_count": 124,
   "metadata": {
    "ExecuteTime": {
     "end_time": "2019-10-31T23:36:28.662099Z",
     "start_time": "2019-10-31T23:36:28.660016Z"
    }
   },
   "outputs": [],
   "source": [
    "# TODO\n",
    "\n",
    "def univariate_plots(df, title):\n",
    "    pdf_pages = PdfPages(f'univariate_plots_{title}.pdf')\n",
    "\n",
    "    plt.figure()\n",
    "\n",
    "    for column in df.columns:\n",
    "        fig, ax = plt.subplots()\n",
    "        ax.hist(df[column], bins=200)\n",
    "        ax.set_title(f'Graph of {column}')\n",
    "        pdf_pages.savefig(fig)\n",
    "        plt.close(fig)\n",
    "    \n",
    "    pdf_pages.close()\n",
    "\n",
    "def bivariate_plot(df, categorical_column, target_column, title):\n",
    "    pdf_pages = PdfPage(f'bivariate_plots_{title}.pdf')\n",
    "\n",
    "    plt.figure()\n",
    "    \n",
    "    for column in df.columns:\n",
    "        fig, ax = plt.subplots()\n",
    "        ax.hist(df[column])\n",
    "        ax.set_title(f'Graph of {column}')\n",
    "        pdf_pages.savefig(fig)\n",
    "        plt.close(fig)\n",
    "    \n",
    "    pdf_pages.close()"
   ]
  },
  {
   "cell_type": "code",
   "execution_count": 150,
   "metadata": {
    "scrolled": true
   },
   "outputs": [],
   "source": [
    "player_data = data[data['damageshare'].notna()]"
   ]
  },
  {
   "cell_type": "code",
   "execution_count": 151,
   "metadata": {
    "scrolled": true
   },
   "outputs": [
    {
     "data": {
      "text/html": [
       "<iframe\n",
       "    scrolling=\"no\"\n",
       "    width=\"100%\"\n",
       "    height=\"545px\"\n",
       "    src=\"iframe_figures/figure_151.html\"\n",
       "    frameborder=\"0\"\n",
       "    allowfullscreen\n",
       "></iframe>\n"
      ]
     },
     "metadata": {},
     "output_type": "display_data"
    }
   ],
   "source": [
    "fig = player_data['dpm'].hist()\n",
    "fig.show()"
   ]
  },
  {
   "cell_type": "code",
   "execution_count": 152,
   "metadata": {},
   "outputs": [
    {
     "data": {
      "text/html": [
       "<iframe\n",
       "    scrolling=\"no\"\n",
       "    width=\"100%\"\n",
       "    height=\"545px\"\n",
       "    src=\"iframe_figures/figure_152.html\"\n",
       "    frameborder=\"0\"\n",
       "    allowfullscreen\n",
       "></iframe>\n"
      ]
     },
     "metadata": {},
     "output_type": "display_data"
    }
   ],
   "source": [
    "fig = player_data['damagetakenperminute'].hist()\n",
    "fig.show()"
   ]
  },
  {
   "cell_type": "code",
   "execution_count": 154,
   "metadata": {},
   "outputs": [
    {
     "data": {
      "text/html": [
       "<iframe\n",
       "    scrolling=\"no\"\n",
       "    width=\"100%\"\n",
       "    height=\"545px\"\n",
       "    src=\"iframe_figures/figure_154.html\"\n",
       "    frameborder=\"0\"\n",
       "    allowfullscreen\n",
       "></iframe>\n"
      ]
     },
     "metadata": {},
     "output_type": "display_data"
    }
   ],
   "source": [
    "fig = player_data['damagemitigatedperminute'].hist()\n",
    "fig.show()"
   ]
  },
  {
   "cell_type": "markdown",
   "metadata": {},
   "source": [
    "## Step 4: Hypothesis Testing"
   ]
  },
  {
   "cell_type": "code",
   "execution_count": 224,
   "metadata": {
    "ExecuteTime": {
     "end_time": "2019-10-31T23:36:28.666489Z",
     "start_time": "2019-10-31T23:36:28.664381Z"
    },
    "scrolled": true
   },
   "outputs": [],
   "source": [
    "# TODO\n",
    "\n",
    "player_rows = data[data['playername'].notna()]\n",
    "team_rows = data[data['playername'].isna()]"
   ]
  },
  {
   "cell_type": "code",
   "execution_count": 292,
   "metadata": {},
   "outputs": [
    {
     "data": {
      "text/plain": [
       "champion\n",
       "Aatrox    0.51\n",
       "Ahri      0.49\n",
       "Akali     0.51\n",
       "          ... \n",
       "Zilean    0.56\n",
       "Zoe       0.53\n",
       "Zyra      0.52\n",
       "Name: Win rate, Length: 168, dtype: float64"
      ]
     },
     "execution_count": 292,
     "metadata": {},
     "output_type": "execute_result"
    }
   ],
   "source": [
    "player_rows['result'] = player_rows['result'].apply(lambda x: 1 if x == \"Won\" else 0)\n",
    "champion_win_rates = player_rows.groupby(\"champion\")['result'].mean()\n",
    "champion_win_rates = champion_win_rates.rename(\"Win rate\")\n",
    "champion_win_rates"
   ]
  },
  {
   "cell_type": "code",
   "execution_count": 293,
   "metadata": {},
   "outputs": [],
   "source": [
    "times_picked = player_rows['champion'].value_counts()\n",
    "times_picked = times_picked.rename('Times picked')"
   ]
  },
  {
   "cell_type": "code",
   "execution_count": 294,
   "metadata": {},
   "outputs": [
    {
     "data": {
      "text/plain": [
       "Kalista    2.28e-01\n",
       "Vi         2.03e-01\n",
       "Varus      1.95e-01\n",
       "             ...   \n",
       "Sona       1.00e-04\n",
       "Nasus      1.00e-04\n",
       "Illaoi     1.00e-04\n",
       "Name: Ban rate, Length: 168, dtype: float64"
      ]
     },
     "execution_count": 294,
     "metadata": {},
     "output_type": "execute_result"
    }
   ],
   "source": [
    "ban_columns = team_rows[['ban1', 'ban2', 'ban3', 'ban4', 'ban5']]\n",
    "bans_series = ban_columns.stack()\n",
    "champion_ban_rates = bans_series.value_counts() / bans_series.shape[0] * 5 \n",
    "# multiply by 5 because each team bans 5 champions, so there are (ban_series.shape[0] / 5) games total\n",
    "champion_ban_rates = champion_ban_rates.rename('Ban rate')\n",
    "champion_ban_rates"
   ]
  },
  {
   "cell_type": "code",
   "execution_count": 298,
   "metadata": {},
   "outputs": [
    {
     "data": {
      "text/html": [
       "<div>\n",
       "<style scoped>\n",
       "    .dataframe tbody tr th:only-of-type {\n",
       "        vertical-align: middle;\n",
       "    }\n",
       "\n",
       "    .dataframe tbody tr th {\n",
       "        vertical-align: top;\n",
       "    }\n",
       "\n",
       "    .dataframe thead th {\n",
       "        text-align: right;\n",
       "    }\n",
       "</style>\n",
       "<table border=\"1\" class=\"dataframe\">\n",
       "  <thead>\n",
       "    <tr style=\"text-align: right;\">\n",
       "      <th></th>\n",
       "      <th>Champion name</th>\n",
       "      <th>Win rate</th>\n",
       "      <th>Ban rate</th>\n",
       "      <th>Times picked</th>\n",
       "    </tr>\n",
       "  </thead>\n",
       "  <tbody>\n",
       "    <tr>\n",
       "      <th>0</th>\n",
       "      <td>Aatrox</td>\n",
       "      <td>0.51</td>\n",
       "      <td>1.07e-02</td>\n",
       "      <td>396</td>\n",
       "    </tr>\n",
       "    <tr>\n",
       "      <th>1</th>\n",
       "      <td>Ahri</td>\n",
       "      <td>0.49</td>\n",
       "      <td>5.18e-02</td>\n",
       "      <td>903</td>\n",
       "    </tr>\n",
       "    <tr>\n",
       "      <th>2</th>\n",
       "      <td>Akali</td>\n",
       "      <td>0.51</td>\n",
       "      <td>4.20e-02</td>\n",
       "      <td>362</td>\n",
       "    </tr>\n",
       "    <tr>\n",
       "      <th>...</th>\n",
       "      <td>...</td>\n",
       "      <td>...</td>\n",
       "      <td>...</td>\n",
       "      <td>...</td>\n",
       "    </tr>\n",
       "    <tr>\n",
       "      <th>164</th>\n",
       "      <td>Zilean</td>\n",
       "      <td>0.56</td>\n",
       "      <td>3.00e-04</td>\n",
       "      <td>16</td>\n",
       "    </tr>\n",
       "    <tr>\n",
       "      <th>165</th>\n",
       "      <td>Zoe</td>\n",
       "      <td>0.53</td>\n",
       "      <td>6.90e-03</td>\n",
       "      <td>36</td>\n",
       "    </tr>\n",
       "    <tr>\n",
       "      <th>166</th>\n",
       "      <td>Zyra</td>\n",
       "      <td>0.52</td>\n",
       "      <td>9.40e-02</td>\n",
       "      <td>370</td>\n",
       "    </tr>\n",
       "  </tbody>\n",
       "</table>\n",
       "<p>167 rows × 4 columns</p>\n",
       "</div>"
      ],
      "text/plain": [
       "    Champion name  Win rate  Ban rate  Times picked\n",
       "0          Aatrox      0.51  1.07e-02           396\n",
       "1            Ahri      0.49  5.18e-02           903\n",
       "2           Akali      0.51  4.20e-02           362\n",
       "..            ...       ...       ...           ...\n",
       "164        Zilean      0.56  3.00e-04            16\n",
       "165           Zoe      0.53  6.90e-03            36\n",
       "166          Zyra      0.52  9.40e-02           370\n",
       "\n",
       "[167 rows x 4 columns]"
      ]
     },
     "execution_count": 298,
     "metadata": {},
     "output_type": "execute_result"
    }
   ],
   "source": [
    "merged_df = pd.DataFrame(champion_win_rates)\n",
    "merged_df = merged_df.merge(champion_ban_rates, left_index=True, right_index=True)\n",
    "merged_df = merged_df.merge(times_picked, left_index=True, right_index=True)\n",
    "\n",
    "merged_df = merged_df.reset_index().rename(columns={'index': 'Champion name'})\n",
    "merged_df"
   ]
  },
  {
   "cell_type": "code",
   "execution_count": 299,
   "metadata": {},
   "outputs": [
    {
     "data": {
      "text/plain": [
       "np.float64(0.2569915129656933)"
      ]
     },
     "execution_count": 299,
     "metadata": {},
     "output_type": "execute_result"
    }
   ],
   "source": [
    "from sklearn.linear_model import LinearRegression\n",
    "from scipy import stats\n",
    "\n",
    "# Reshape X for sklearn (requires 2D array)\n",
    "X = merged_df[['Ban rate']]\n",
    "y = merged_df['Win rate']\n",
    "\n",
    "# Fit model\n",
    "model = LinearRegression().fit(X, y)\n",
    "\n",
    "# Calculate p-value manually\n",
    "slope = model.coef_[0]\n",
    "intercept = model.intercept_\n",
    "predictions = model.predict(X)\n",
    "\n",
    "# Residuals and standard error\n",
    "residuals = y - predictions\n",
    "dof = len(X) - 2  # Degrees of freedom\n",
    "mse = np.sum(residuals**2) / dof\n",
    "se_slope = np.sqrt(mse / np.sum((X['Ban rate'] - X['Ban rate'].mean())**2))\n",
    "t_stat = slope / se_slope\n",
    "p_value = 2 * stats.t.sf(np.abs(t_stat), dof)\n",
    "p_value\n",
    "# Lyn: P-value is pretty low"
   ]
  },
  {
   "cell_type": "code",
   "execution_count": 300,
   "metadata": {},
   "outputs": [
    {
     "data": {
      "text/html": [
       "<iframe\n",
       "    scrolling=\"no\"\n",
       "    width=\"100%\"\n",
       "    height=\"545px\"\n",
       "    src=\"iframe_figures/figure_300.html\"\n",
       "    frameborder=\"0\"\n",
       "    allowfullscreen\n",
       "></iframe>\n"
      ]
     },
     "metadata": {},
     "output_type": "display_data"
    }
   ],
   "source": [
    "fig = px.scatter(merged_df, x='Ban rate', y='Win rate', hover_data='Champion name')\n",
    "fig.add_hline(\n",
    "    y=0.5,\n",
    "    line_dash=\"dash\",  # Makes the line dashed\n",
    "    line_color=\"black\",  # Adjust color as needed\n",
    "    line_width=2,\n",
    "    opacity=0.2,\n",
    ")\n",
    "\n",
    "# Add linear regression trace\n",
    "fig.add_trace(\n",
    "    go.Scatter(\n",
    "        x=merged_df['Ban rate'],\n",
    "        y=model.predict(merged_df[['Ban rate']]),\n",
    "        mode='lines',\n",
    "        name='Regression Line',\n",
    "        opacity=0.3,\n",
    "        line=dict(color='red')\n",
    "))\n",
    "\n",
    "fig.show()\n",
    "# Lyn: Looks like there's a lot of outlier data from champions that nobody picks or bothers banning"
   ]
  },
  {
   "cell_type": "code",
   "execution_count": 336,
   "metadata": {
    "scrolled": true
   },
   "outputs": [
    {
     "name": "stdout",
     "output_type": "stream",
     "text": [
      "48.949\n"
     ]
    },
    {
     "data": {
      "text/plain": [
       "0.6167664670658682"
      ]
     },
     "execution_count": 336,
     "metadata": {},
     "output_type": "execute_result"
    }
   ],
   "source": [
    "#merged_df.sort_values(by='Times picked').plot.bar(x='Champion name', y='Times picked')\n",
    "# Filter out rarely picked champions to see if our model improves\n",
    "print(sifted_df['Times picked'].sum() / 1000)\n",
    "# Lyn: Let's try keeping only champions that are picked one time in every thousand, that seems fair\n",
    "sifted_df = merged_df.query(\"`Times picked` > 50\")\n",
    "sifted_df.shape[0] / merged_df.shape[0]"
   ]
  },
  {
   "cell_type": "code",
   "execution_count": 334,
   "metadata": {},
   "outputs": [
    {
     "data": {
      "text/plain": [
       "np.float64(0.024004906650771665)"
      ]
     },
     "execution_count": 334,
     "metadata": {},
     "output_type": "execute_result"
    }
   ],
   "source": [
    "from sklearn.linear_model import LinearRegression\n",
    "from scipy import stats\n",
    "\n",
    "# Reshape X for sklearn (requires 2D array)\n",
    "X = sifted_df[['Ban rate']]\n",
    "y = sifted_df['Win rate']\n",
    "\n",
    "# Fit model\n",
    "model = LinearRegression().fit(X, y)\n",
    "\n",
    "# Calculate p-value manually\n",
    "slope = model.coef_[0]\n",
    "intercept = model.intercept_\n",
    "predictions = model.predict(X)\n",
    "\n",
    "# Residuals and standard error\n",
    "residuals = y - predictions\n",
    "dof = len(X) - 2  # Degrees of freedom\n",
    "mse = np.sum(residuals**2) / dof\n",
    "se_slope = np.sqrt(mse / np.sum((X['Ban rate'] - X['Ban rate'].mean())**2))\n",
    "t_stat = slope / se_slope\n",
    "p_value = 2 * stats.t.sf(np.abs(t_stat), dof)\n",
    "p_value\n",
    "# Lyn: Much better p-value! Looks like we can conclude that ban rates are correlated with win rate."
   ]
  },
  {
   "cell_type": "code",
   "execution_count": 335,
   "metadata": {},
   "outputs": [
    {
     "data": {
      "text/html": [
       "<iframe\n",
       "    scrolling=\"no\"\n",
       "    width=\"100%\"\n",
       "    height=\"545px\"\n",
       "    src=\"iframe_figures/figure_335.html\"\n",
       "    frameborder=\"0\"\n",
       "    allowfullscreen\n",
       "></iframe>\n"
      ]
     },
     "metadata": {},
     "output_type": "display_data"
    }
   ],
   "source": [
    "fig = px.scatter(sifted_df, x='Ban rate', y='Win rate', hover_data='Champion name')\n",
    "fig.add_hline(\n",
    "    y=0.5,\n",
    "    line_dash=\"dash\",  # Makes the line dashed\n",
    "    line_color=\"black\",  # Adjust color as needed\n",
    "    line_width=2,\n",
    "    opacity=0.2,\n",
    ")\n",
    "\n",
    "# Add linear regression trace\n",
    "fig.add_trace(\n",
    "    go.Scatter(\n",
    "        x=sifted_df['Ban rate'],\n",
    "        y=model.predict(sifted_df[['Ban rate']]),\n",
    "        mode='lines',\n",
    "        name='Regression Line',\n",
    "        opacity=0.3,\n",
    "        line=dict(color='red')\n",
    "))\n",
    "\n",
    "fig.show()"
   ]
  },
  {
   "cell_type": "markdown",
   "metadata": {},
   "source": [
    "## Step 5: Framing a Prediction Problem"
   ]
  },
  {
   "cell_type": "code",
   "execution_count": null,
   "metadata": {
    "ExecuteTime": {
     "end_time": "2019-10-31T23:36:28.657068Z",
     "start_time": "2019-10-31T23:36:28.654650Z"
    }
   },
   "outputs": [],
   "source": [
    "# TODO\n",
    "Use one-hot encoding!"
   ]
  },
  {
   "cell_type": "markdown",
   "metadata": {},
   "source": [
    "## Step 6: Baseline Model"
   ]
  },
  {
   "cell_type": "code",
   "execution_count": null,
   "metadata": {
    "ExecuteTime": {
     "end_time": "2019-10-31T23:36:28.662099Z",
     "start_time": "2019-10-31T23:36:28.660016Z"
    }
   },
   "outputs": [],
   "source": [
    "# TODO"
   ]
  },
  {
   "cell_type": "markdown",
   "metadata": {},
   "source": [
    "## Step 7: Final Model"
   ]
  },
  {
   "cell_type": "code",
   "execution_count": null,
   "metadata": {
    "ExecuteTime": {
     "end_time": "2019-10-31T23:36:28.662099Z",
     "start_time": "2019-10-31T23:36:28.660016Z"
    }
   },
   "outputs": [],
   "source": [
    "# TODO"
   ]
  },
  {
   "cell_type": "markdown",
   "metadata": {},
   "source": [
    "## Step 8: Fairness Analysis"
   ]
  },
  {
   "cell_type": "code",
   "execution_count": null,
   "metadata": {
    "ExecuteTime": {
     "end_time": "2019-10-31T23:36:28.666489Z",
     "start_time": "2019-10-31T23:36:28.664381Z"
    }
   },
   "outputs": [],
   "source": [
    "# TODO"
   ]
  }
 ],
 "metadata": {
  "kernelspec": {
   "display_name": "Python 3 (ipykernel)",
   "language": "python",
   "name": "python3"
  },
  "language_info": {
   "codemirror_mode": {
    "name": "ipython",
    "version": 3
   },
   "file_extension": ".py",
   "mimetype": "text/x-python",
   "name": "python",
   "nbconvert_exporter": "python",
   "pygments_lexer": "ipython3",
   "version": "3.12.10"
  }
 },
 "nbformat": 4,
 "nbformat_minor": 4
}
