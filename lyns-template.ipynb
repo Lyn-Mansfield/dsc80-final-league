{
 "cells": [
  {
   "cell_type": "markdown",
   "metadata": {},
   "source": [
    "# Your Title Here\n",
    "\n",
    "**Name(s)**: Landon Marchetti and Lyn Mansfield\n",
    "\n",
    "**Website Link**: (your website link)"
   ]
  },
  {
   "cell_type": "code",
   "execution_count": 1,
   "metadata": {
    "ExecuteTime": {
     "end_time": "2019-10-31T23:36:28.652554Z",
     "start_time": "2019-10-31T23:36:27.180520Z"
    }
   },
   "outputs": [],
   "source": [
    "import pandas as pd\n",
    "import numpy as np\n",
    "from pathlib import Path\n",
    "from matplotlib.backends.backend_pdf import PdfPages\n",
    "\n",
    "import plotly.express as px\n",
    "pd.options.plotting.backend = 'plotly'\n",
    "\n",
    "from dsc80_utils import * # Feel free to uncomment and use this."
   ]
  },
  {
   "cell_type": "code",
   "execution_count": 2,
   "metadata": {},
   "outputs": [],
   "source": [
    "%load_ext autoreload\n",
    "%autoreload 2"
   ]
  },
  {
   "cell_type": "markdown",
   "metadata": {},
   "source": [
    "## Step 1: Introduction"
   ]
  },
  {
   "cell_type": "markdown",
   "metadata": {},
   "source": [
    "# TODO\n",
    "\n",
    "Which legends are the most meta-defining? Difference in win rate between when it's banned vs when it's not\n",
    "\n",
    "How important is the first kill of a game? \n",
    "- not important at all actually lol, the winrates are all the same no matter what\n",
    "\n",
    "Which characters are the most banned? Which characters are the best?\n",
    "\n",
    "What archetype of character's performance matters the most?\n",
    "\n",
    "How important is early success?"
   ]
  },
  {
   "cell_type": "markdown",
   "metadata": {},
   "source": [
    "## Step 2: Data Cleaning and Exploratory Data Analysis"
   ]
  },
  {
   "cell_type": "markdown",
   "metadata": {},
   "source": [
    "What are \"partial\" rows missing from their data? <== me!"
   ]
  },
  {
   "cell_type": "code",
   "execution_count": 195,
   "metadata": {
    "ExecuteTime": {
     "end_time": "2019-10-31T23:36:28.657068Z",
     "start_time": "2019-10-31T23:36:28.654650Z"
    }
   },
   "outputs": [
    {
     "data": {
      "text/html": [
       "<div>\n",
       "<style scoped>\n",
       "    .dataframe tbody tr th:only-of-type {\n",
       "        vertical-align: middle;\n",
       "    }\n",
       "\n",
       "    .dataframe tbody tr th {\n",
       "        vertical-align: top;\n",
       "    }\n",
       "\n",
       "    .dataframe thead th {\n",
       "        text-align: right;\n",
       "    }\n",
       "</style>\n",
       "<table border=\"1\" class=\"dataframe\">\n",
       "  <thead>\n",
       "    <tr style=\"text-align: right;\">\n",
       "      <th></th>\n",
       "      <th>Unnamed: 0</th>\n",
       "      <th>gameid</th>\n",
       "      <th>datacompleteness</th>\n",
       "      <th>url</th>\n",
       "      <th>...</th>\n",
       "      <th>monsterkills</th>\n",
       "      <th>monsterkillsownjungle</th>\n",
       "      <th>monsterkillsenemyjungle</th>\n",
       "      <th>cspm</th>\n",
       "    </tr>\n",
       "  </thead>\n",
       "  <tbody>\n",
       "    <tr>\n",
       "      <th>0</th>\n",
       "      <td>0</td>\n",
       "      <td>LOLTMNT03_179647</td>\n",
       "      <td>complete</td>\n",
       "      <td>NaN</td>\n",
       "      <td>...</td>\n",
       "      <td>0</td>\n",
       "      <td>-1</td>\n",
       "      <td>-1</td>\n",
       "      <td>8.82</td>\n",
       "    </tr>\n",
       "    <tr>\n",
       "      <th>1</th>\n",
       "      <td>1</td>\n",
       "      <td>LOLTMNT03_179647</td>\n",
       "      <td>complete</td>\n",
       "      <td>NaN</td>\n",
       "      <td>...</td>\n",
       "      <td>132</td>\n",
       "      <td>-1</td>\n",
       "      <td>-1</td>\n",
       "      <td>5.39</td>\n",
       "    </tr>\n",
       "    <tr>\n",
       "      <th>2</th>\n",
       "      <td>2</td>\n",
       "      <td>LOLTMNT03_179647</td>\n",
       "      <td>complete</td>\n",
       "      <td>NaN</td>\n",
       "      <td>...</td>\n",
       "      <td>0</td>\n",
       "      <td>-1</td>\n",
       "      <td>-1</td>\n",
       "      <td>7.88</td>\n",
       "    </tr>\n",
       "    <tr>\n",
       "      <th>...</th>\n",
       "      <td>...</td>\n",
       "      <td>...</td>\n",
       "      <td>...</td>\n",
       "      <td>...</td>\n",
       "      <td>...</td>\n",
       "      <td>...</td>\n",
       "      <td>...</td>\n",
       "      <td>...</td>\n",
       "      <td>...</td>\n",
       "    </tr>\n",
       "    <tr>\n",
       "      <th>60177</th>\n",
       "      <td>60177</td>\n",
       "      <td>LOLTMNT06_120342</td>\n",
       "      <td>complete</td>\n",
       "      <td>NaN</td>\n",
       "      <td>...</td>\n",
       "      <td>0</td>\n",
       "      <td>-1</td>\n",
       "      <td>-1</td>\n",
       "      <td>1.10</td>\n",
       "    </tr>\n",
       "    <tr>\n",
       "      <th>60178</th>\n",
       "      <td>60178</td>\n",
       "      <td>LOLTMNT06_120342</td>\n",
       "      <td>complete</td>\n",
       "      <td>NaN</td>\n",
       "      <td>...</td>\n",
       "      <td>159</td>\n",
       "      <td>-1</td>\n",
       "      <td>-1</td>\n",
       "      <td>34.30</td>\n",
       "    </tr>\n",
       "    <tr>\n",
       "      <th>60179</th>\n",
       "      <td>60179</td>\n",
       "      <td>LOLTMNT06_120342</td>\n",
       "      <td>complete</td>\n",
       "      <td>NaN</td>\n",
       "      <td>...</td>\n",
       "      <td>222</td>\n",
       "      <td>-1</td>\n",
       "      <td>-1</td>\n",
       "      <td>36.61</td>\n",
       "    </tr>\n",
       "  </tbody>\n",
       "</table>\n",
       "<p>60180 rows × 71 columns</p>\n",
       "</div>"
      ],
      "text/plain": [
       "       Unnamed: 0            gameid datacompleteness  url  ... monsterkills  \\\n",
       "0               0  LOLTMNT03_179647         complete  NaN  ...            0   \n",
       "1               1  LOLTMNT03_179647         complete  NaN  ...          132   \n",
       "2               2  LOLTMNT03_179647         complete  NaN  ...            0   \n",
       "...           ...               ...              ...  ...  ...          ...   \n",
       "60177       60177  LOLTMNT06_120342         complete  NaN  ...            0   \n",
       "60178       60178  LOLTMNT06_120342         complete  NaN  ...          159   \n",
       "60179       60179  LOLTMNT06_120342         complete  NaN  ...          222   \n",
       "\n",
       "       monsterkillsownjungle monsterkillsenemyjungle   cspm  \n",
       "0                         -1                      -1   8.82  \n",
       "1                         -1                      -1   5.39  \n",
       "2                         -1                      -1   7.88  \n",
       "...                      ...                     ...    ...  \n",
       "60177                     -1                      -1   1.10  \n",
       "60178                     -1                      -1  34.30  \n",
       "60179                     -1                      -1  36.61  \n",
       "\n",
       "[60180 rows x 71 columns]"
      ]
     },
     "execution_count": 195,
     "metadata": {},
     "output_type": "execute_result"
    }
   ],
   "source": [
    "# TODO\n",
    "\n",
    "from pathlib import Path\n",
    "\n",
    "dataset_path = Path(\"./data/2025_LoL_clean_stats.csv\")\n",
    "# /data/2025_LoL_clean_stats.csv\n",
    "data = pd.read_csv(dataset_path)\n",
    "data"
   ]
  },
  {
   "cell_type": "code",
   "execution_count": 182,
   "metadata": {},
   "outputs": [
    {
     "data": {
      "text/html": [
       "<div>\n",
       "<style scoped>\n",
       "    .dataframe tbody tr th:only-of-type {\n",
       "        vertical-align: middle;\n",
       "    }\n",
       "\n",
       "    .dataframe tbody tr th {\n",
       "        vertical-align: top;\n",
       "    }\n",
       "\n",
       "    .dataframe thead th {\n",
       "        text-align: right;\n",
       "    }\n",
       "</style>\n",
       "<table border=\"1\" class=\"dataframe\">\n",
       "  <thead>\n",
       "    <tr style=\"text-align: right;\">\n",
       "      <th></th>\n",
       "      <th>gameid</th>\n",
       "      <th>datacompleteness</th>\n",
       "      <th>url</th>\n",
       "      <th>league</th>\n",
       "      <th>...</th>\n",
       "      <th>monsterkills</th>\n",
       "      <th>monsterkillsownjungle</th>\n",
       "      <th>monsterkillsenemyjungle</th>\n",
       "      <th>cspm</th>\n",
       "    </tr>\n",
       "  </thead>\n",
       "  <tbody>\n",
       "    <tr>\n",
       "      <th>0</th>\n",
       "      <td>LOLTMNT03_179647</td>\n",
       "      <td>complete</td>\n",
       "      <td>NaN</td>\n",
       "      <td>LFL2</td>\n",
       "      <td>...</td>\n",
       "      <td>0</td>\n",
       "      <td>-1</td>\n",
       "      <td>-1</td>\n",
       "      <td>8.82</td>\n",
       "    </tr>\n",
       "    <tr>\n",
       "      <th>1</th>\n",
       "      <td>LOLTMNT03_179647</td>\n",
       "      <td>complete</td>\n",
       "      <td>NaN</td>\n",
       "      <td>LFL2</td>\n",
       "      <td>...</td>\n",
       "      <td>132</td>\n",
       "      <td>-1</td>\n",
       "      <td>-1</td>\n",
       "      <td>5.39</td>\n",
       "    </tr>\n",
       "    <tr>\n",
       "      <th>2</th>\n",
       "      <td>LOLTMNT03_179647</td>\n",
       "      <td>complete</td>\n",
       "      <td>NaN</td>\n",
       "      <td>LFL2</td>\n",
       "      <td>...</td>\n",
       "      <td>0</td>\n",
       "      <td>-1</td>\n",
       "      <td>-1</td>\n",
       "      <td>7.88</td>\n",
       "    </tr>\n",
       "    <tr>\n",
       "      <th>...</th>\n",
       "      <td>...</td>\n",
       "      <td>...</td>\n",
       "      <td>...</td>\n",
       "      <td>...</td>\n",
       "      <td>...</td>\n",
       "      <td>...</td>\n",
       "      <td>...</td>\n",
       "      <td>...</td>\n",
       "      <td>...</td>\n",
       "    </tr>\n",
       "    <tr>\n",
       "      <th>60177</th>\n",
       "      <td>LOLTMNT06_120342</td>\n",
       "      <td>complete</td>\n",
       "      <td>NaN</td>\n",
       "      <td>CD</td>\n",
       "      <td>...</td>\n",
       "      <td>0</td>\n",
       "      <td>-1</td>\n",
       "      <td>-1</td>\n",
       "      <td>1.10</td>\n",
       "    </tr>\n",
       "    <tr>\n",
       "      <th>60178</th>\n",
       "      <td>LOLTMNT06_120342</td>\n",
       "      <td>complete</td>\n",
       "      <td>NaN</td>\n",
       "      <td>CD</td>\n",
       "      <td>...</td>\n",
       "      <td>159</td>\n",
       "      <td>-1</td>\n",
       "      <td>-1</td>\n",
       "      <td>34.30</td>\n",
       "    </tr>\n",
       "    <tr>\n",
       "      <th>60179</th>\n",
       "      <td>LOLTMNT06_120342</td>\n",
       "      <td>complete</td>\n",
       "      <td>NaN</td>\n",
       "      <td>CD</td>\n",
       "      <td>...</td>\n",
       "      <td>222</td>\n",
       "      <td>-1</td>\n",
       "      <td>-1</td>\n",
       "      <td>36.61</td>\n",
       "    </tr>\n",
       "  </tbody>\n",
       "</table>\n",
       "<p>60180 rows × 70 columns</p>\n",
       "</div>"
      ],
      "text/plain": [
       "                 gameid datacompleteness  url league  ...  monsterkills  \\\n",
       "0      LOLTMNT03_179647         complete  NaN   LFL2  ...             0   \n",
       "1      LOLTMNT03_179647         complete  NaN   LFL2  ...           132   \n",
       "2      LOLTMNT03_179647         complete  NaN   LFL2  ...             0   \n",
       "...                 ...              ...  ...    ...  ...           ...   \n",
       "60177  LOLTMNT06_120342         complete  NaN     CD  ...             0   \n",
       "60178  LOLTMNT06_120342         complete  NaN     CD  ...           159   \n",
       "60179  LOLTMNT06_120342         complete  NaN     CD  ...           222   \n",
       "\n",
       "      monsterkillsownjungle  monsterkillsenemyjungle   cspm  \n",
       "0                        -1                       -1   8.82  \n",
       "1                        -1                       -1   5.39  \n",
       "2                        -1                       -1   7.88  \n",
       "...                     ...                      ...    ...  \n",
       "60177                    -1                       -1   1.10  \n",
       "60178                    -1                       -1  34.30  \n",
       "60179                    -1                       -1  36.61  \n",
       "\n",
       "[60180 rows x 70 columns]"
      ]
     },
     "execution_count": 182,
     "metadata": {},
     "output_type": "execute_result"
    }
   ],
   "source": [
    "# for boolean columns, give special treatment\n",
    "boolean_columns = ['firstblood', 'firstbloodkill', 'firstbloodassist', 'firstbloodvictim']\n",
    "def transform_int_to_bool(x):\n",
    "    if x == 1:\n",
    "        return True\n",
    "    if x == 0:\n",
    "        return False\n",
    "for column in boolean_columns:\n",
    "    data[column] = data[column].apply(lambda x: transform_int_to_bool(x) if x >= 0 else np.nan)\n",
    "\n",
    "# clearly label if players won or lost\n",
    "data['result'] = data['result'].apply(lambda x: 'Won' if x == 1 else 'Lost')\n",
    "\n",
    "data"
   ]
  },
  {
   "cell_type": "code",
   "execution_count": 186,
   "metadata": {},
   "outputs": [],
   "source": [
    "data.to_csv(\"2025_LoL_clean_stats.csv\")"
   ]
  },
  {
   "cell_type": "code",
   "execution_count": 188,
   "metadata": {},
   "outputs": [
    {
     "data": {
      "text/html": [
       "<iframe\n",
       "    scrolling=\"no\"\n",
       "    width=\"100%\"\n",
       "    height=\"545px\"\n",
       "    src=\"iframe_figures/figure_188.html\"\n",
       "    frameborder=\"0\"\n",
       "    allowfullscreen\n",
       "></iframe>\n"
      ]
     },
     "metadata": {},
     "output_type": "display_data"
    }
   ],
   "source": [
    "type_frequencies = data.dtypes.value_counts()\n",
    "type_frequencies.index = type_frequencies.index.map(str)\n",
    "fig = px.bar(type_frequencies, \n",
    "\tlabels={'index': 'Data type', 'value': 'Frequency'}\n",
    "\t)\n",
    "fig.update_layout(\n",
    "    title={\n",
    "        'text': 'Frequencies of Relevant Data Types',\n",
    "        'font': {'size': 24}\n",
    "    }\n",
    ")\n",
    "fig.show()"
   ]
  },
  {
   "cell_type": "code",
   "execution_count": 187,
   "metadata": {},
   "outputs": [
    {
     "data": {
      "text/html": [
       "<iframe\n",
       "    scrolling=\"no\"\n",
       "    width=\"100%\"\n",
       "    height=\"545px\"\n",
       "    src=\"iframe_figures/figure_187.html\"\n",
       "    frameborder=\"0\"\n",
       "    allowfullscreen\n",
       "></iframe>\n"
      ]
     },
     "metadata": {},
     "output_type": "display_data"
    }
   ],
   "source": [
    "num_missing = data.apply(pd.isna).sum()\n",
    "num_missing = num_missing / data.shape[0] * 100\n",
    "\n",
    "fig = px.bar(num_missing[num_missing != 0].sort_values(), \n",
    "\tlabels={'index': 'Column name', 'value': '% missing'},\n",
    "\ttitle='Data missing from partial rows'\n",
    "\t)\n",
    "fig.show()"
   ]
  },
  {
   "cell_type": "markdown",
   "metadata": {},
   "source": [
    "## Step 3: Assessment of Missingness"
   ]
  },
  {
   "cell_type": "code",
   "execution_count": 124,
   "metadata": {
    "ExecuteTime": {
     "end_time": "2019-10-31T23:36:28.662099Z",
     "start_time": "2019-10-31T23:36:28.660016Z"
    }
   },
   "outputs": [],
   "source": [
    "# TODO\n",
    "\n",
    "def univariate_plots(df, title):\n",
    "    pdf_pages = PdfPages(f'univariate_plots_{title}.pdf')\n",
    "\n",
    "    plt.figure()\n",
    "\n",
    "    for column in df.columns:\n",
    "        fig, ax = plt.subplots()\n",
    "        ax.hist(df[column], bins=200)\n",
    "        ax.set_title(f'Graph of {column}')\n",
    "        pdf_pages.savefig(fig)\n",
    "        plt.close(fig)\n",
    "    \n",
    "    pdf_pages.close()\n",
    "\n",
    "def bivariate_plot(df, categorical_column, target_column, title):\n",
    "    pdf_pages = PdfPage(f'bivariate_plots_{title}.pdf')\n",
    "\n",
    "    plt.figure()\n",
    "    \n",
    "    for column in df.columns:\n",
    "        fig, ax = plt.subplots()\n",
    "        ax.hist(df[column])\n",
    "        ax.set_title(f'Graph of {column}')\n",
    "        pdf_pages.savefig(fig)\n",
    "        plt.close(fig)\n",
    "    \n",
    "    pdf_pages.close()"
   ]
  },
  {
   "cell_type": "code",
   "execution_count": 150,
   "metadata": {
    "scrolled": true
   },
   "outputs": [],
   "source": [
    "player_data = data[data['damageshare'].notna()]"
   ]
  },
  {
   "cell_type": "code",
   "execution_count": 151,
   "metadata": {
    "scrolled": true
   },
   "outputs": [
    {
     "data": {
      "text/html": [
       "<iframe\n",
       "    scrolling=\"no\"\n",
       "    width=\"100%\"\n",
       "    height=\"545px\"\n",
       "    src=\"iframe_figures/figure_151.html\"\n",
       "    frameborder=\"0\"\n",
       "    allowfullscreen\n",
       "></iframe>\n"
      ]
     },
     "metadata": {},
     "output_type": "display_data"
    }
   ],
   "source": [
    "fig = player_data['dpm'].hist()\n",
    "fig.show()"
   ]
  },
  {
   "cell_type": "code",
   "execution_count": 152,
   "metadata": {},
   "outputs": [
    {
     "data": {
      "text/html": [
       "<iframe\n",
       "    scrolling=\"no\"\n",
       "    width=\"100%\"\n",
       "    height=\"545px\"\n",
       "    src=\"iframe_figures/figure_152.html\"\n",
       "    frameborder=\"0\"\n",
       "    allowfullscreen\n",
       "></iframe>\n"
      ]
     },
     "metadata": {},
     "output_type": "display_data"
    }
   ],
   "source": [
    "fig = player_data['damagetakenperminute'].hist()\n",
    "fig.show()"
   ]
  },
  {
   "cell_type": "code",
   "execution_count": 154,
   "metadata": {},
   "outputs": [
    {
     "data": {
      "text/html": [
       "<iframe\n",
       "    scrolling=\"no\"\n",
       "    width=\"100%\"\n",
       "    height=\"545px\"\n",
       "    src=\"iframe_figures/figure_154.html\"\n",
       "    frameborder=\"0\"\n",
       "    allowfullscreen\n",
       "></iframe>\n"
      ]
     },
     "metadata": {},
     "output_type": "display_data"
    }
   ],
   "source": [
    "fig = player_data['damagemitigatedperminute'].hist()\n",
    "fig.show()"
   ]
  },
  {
   "cell_type": "markdown",
   "metadata": {},
   "source": [
    "## Step 4: Hypothesis Testing"
   ]
  },
  {
   "cell_type": "code",
   "execution_count": 217,
   "metadata": {
    "ExecuteTime": {
     "end_time": "2019-10-31T23:36:28.666489Z",
     "start_time": "2019-10-31T23:36:28.664381Z"
    },
    "scrolled": true
   },
   "outputs": [
    {
     "data": {
      "text/html": [
       "<div>\n",
       "<style scoped>\n",
       "    .dataframe tbody tr th:only-of-type {\n",
       "        vertical-align: middle;\n",
       "    }\n",
       "\n",
       "    .dataframe tbody tr th {\n",
       "        vertical-align: top;\n",
       "    }\n",
       "\n",
       "    .dataframe thead th {\n",
       "        text-align: right;\n",
       "    }\n",
       "</style>\n",
       "<table border=\"1\" class=\"dataframe\">\n",
       "  <thead>\n",
       "    <tr style=\"text-align: right;\">\n",
       "      <th></th>\n",
       "      <th>Unnamed: 0</th>\n",
       "      <th>gameid</th>\n",
       "      <th>datacompleteness</th>\n",
       "      <th>url</th>\n",
       "      <th>...</th>\n",
       "      <th>monsterkills</th>\n",
       "      <th>monsterkillsownjungle</th>\n",
       "      <th>monsterkillsenemyjungle</th>\n",
       "      <th>cspm</th>\n",
       "    </tr>\n",
       "  </thead>\n",
       "  <tbody>\n",
       "    <tr>\n",
       "      <th>0</th>\n",
       "      <td>0</td>\n",
       "      <td>LOLTMNT03_179647</td>\n",
       "      <td>complete</td>\n",
       "      <td>NaN</td>\n",
       "      <td>...</td>\n",
       "      <td>0</td>\n",
       "      <td>-1</td>\n",
       "      <td>-1</td>\n",
       "      <td>8.82</td>\n",
       "    </tr>\n",
       "    <tr>\n",
       "      <th>1</th>\n",
       "      <td>1</td>\n",
       "      <td>LOLTMNT03_179647</td>\n",
       "      <td>complete</td>\n",
       "      <td>NaN</td>\n",
       "      <td>...</td>\n",
       "      <td>132</td>\n",
       "      <td>-1</td>\n",
       "      <td>-1</td>\n",
       "      <td>5.39</td>\n",
       "    </tr>\n",
       "    <tr>\n",
       "      <th>2</th>\n",
       "      <td>2</td>\n",
       "      <td>LOLTMNT03_179647</td>\n",
       "      <td>complete</td>\n",
       "      <td>NaN</td>\n",
       "      <td>...</td>\n",
       "      <td>0</td>\n",
       "      <td>-1</td>\n",
       "      <td>-1</td>\n",
       "      <td>7.88</td>\n",
       "    </tr>\n",
       "    <tr>\n",
       "      <th>...</th>\n",
       "      <td>...</td>\n",
       "      <td>...</td>\n",
       "      <td>...</td>\n",
       "      <td>...</td>\n",
       "      <td>...</td>\n",
       "      <td>...</td>\n",
       "      <td>...</td>\n",
       "      <td>...</td>\n",
       "      <td>...</td>\n",
       "    </tr>\n",
       "    <tr>\n",
       "      <th>60175</th>\n",
       "      <td>60175</td>\n",
       "      <td>LOLTMNT06_120342</td>\n",
       "      <td>complete</td>\n",
       "      <td>NaN</td>\n",
       "      <td>...</td>\n",
       "      <td>26</td>\n",
       "      <td>-1</td>\n",
       "      <td>-1</td>\n",
       "      <td>11.08</td>\n",
       "    </tr>\n",
       "    <tr>\n",
       "      <th>60176</th>\n",
       "      <td>60176</td>\n",
       "      <td>LOLTMNT06_120342</td>\n",
       "      <td>complete</td>\n",
       "      <td>NaN</td>\n",
       "      <td>...</td>\n",
       "      <td>10</td>\n",
       "      <td>-1</td>\n",
       "      <td>-1</td>\n",
       "      <td>10.44</td>\n",
       "    </tr>\n",
       "    <tr>\n",
       "      <th>60177</th>\n",
       "      <td>60177</td>\n",
       "      <td>LOLTMNT06_120342</td>\n",
       "      <td>complete</td>\n",
       "      <td>NaN</td>\n",
       "      <td>...</td>\n",
       "      <td>0</td>\n",
       "      <td>-1</td>\n",
       "      <td>-1</td>\n",
       "      <td>1.10</td>\n",
       "    </tr>\n",
       "  </tbody>\n",
       "</table>\n",
       "<p>50142 rows × 71 columns</p>\n",
       "</div>"
      ],
      "text/plain": [
       "       Unnamed: 0            gameid datacompleteness  url  ... monsterkills  \\\n",
       "0               0  LOLTMNT03_179647         complete  NaN  ...            0   \n",
       "1               1  LOLTMNT03_179647         complete  NaN  ...          132   \n",
       "2               2  LOLTMNT03_179647         complete  NaN  ...            0   \n",
       "...           ...               ...              ...  ...  ...          ...   \n",
       "60175       60175  LOLTMNT06_120342         complete  NaN  ...           26   \n",
       "60176       60176  LOLTMNT06_120342         complete  NaN  ...           10   \n",
       "60177       60177  LOLTMNT06_120342         complete  NaN  ...            0   \n",
       "\n",
       "       monsterkillsownjungle monsterkillsenemyjungle   cspm  \n",
       "0                         -1                      -1   8.82  \n",
       "1                         -1                      -1   5.39  \n",
       "2                         -1                      -1   7.88  \n",
       "...                      ...                     ...    ...  \n",
       "60175                     -1                      -1  11.08  \n",
       "60176                     -1                      -1  10.44  \n",
       "60177                     -1                      -1   1.10  \n",
       "\n",
       "[50142 rows x 71 columns]"
      ]
     },
     "execution_count": 217,
     "metadata": {},
     "output_type": "execute_result"
    }
   ],
   "source": [
    "# TODO\n",
    "\n",
    "player_rows = data[data['playername'].notna()]\n",
    "player_rows"
   ]
  },
  {
   "cell_type": "code",
   "execution_count": 219,
   "metadata": {},
   "outputs": [],
   "source": [
    "player_rows['result'] = player_rows['result'].apply(lambda x: 1 if x == \"Won\" else 0)\n",
    "champion_win_rates = player_rows.groupby(\"champion\")['result'].mean()"
   ]
  },
  {
   "cell_type": "markdown",
   "metadata": {},
   "source": [
    "## Step 5: Framing a Prediction Problem"
   ]
  },
  {
   "cell_type": "code",
   "execution_count": null,
   "metadata": {
    "ExecuteTime": {
     "end_time": "2019-10-31T23:36:28.657068Z",
     "start_time": "2019-10-31T23:36:28.654650Z"
    }
   },
   "outputs": [],
   "source": [
    "# TODO\n",
    "Use one-hot encoding!"
   ]
  },
  {
   "cell_type": "markdown",
   "metadata": {},
   "source": [
    "## Step 6: Baseline Model"
   ]
  },
  {
   "cell_type": "code",
   "execution_count": null,
   "metadata": {
    "ExecuteTime": {
     "end_time": "2019-10-31T23:36:28.662099Z",
     "start_time": "2019-10-31T23:36:28.660016Z"
    }
   },
   "outputs": [],
   "source": [
    "# TODO"
   ]
  },
  {
   "cell_type": "markdown",
   "metadata": {},
   "source": [
    "## Step 7: Final Model"
   ]
  },
  {
   "cell_type": "code",
   "execution_count": null,
   "metadata": {
    "ExecuteTime": {
     "end_time": "2019-10-31T23:36:28.662099Z",
     "start_time": "2019-10-31T23:36:28.660016Z"
    }
   },
   "outputs": [],
   "source": [
    "# TODO"
   ]
  },
  {
   "cell_type": "markdown",
   "metadata": {},
   "source": [
    "## Step 8: Fairness Analysis"
   ]
  },
  {
   "cell_type": "code",
   "execution_count": null,
   "metadata": {
    "ExecuteTime": {
     "end_time": "2019-10-31T23:36:28.666489Z",
     "start_time": "2019-10-31T23:36:28.664381Z"
    }
   },
   "outputs": [],
   "source": [
    "# TODO"
   ]
  }
 ],
 "metadata": {
  "kernelspec": {
   "display_name": "Python 3 (ipykernel)",
   "language": "python",
   "name": "python3"
  },
  "language_info": {
   "codemirror_mode": {
    "name": "ipython",
    "version": 3
   },
   "file_extension": ".py",
   "mimetype": "text/x-python",
   "name": "python",
   "nbconvert_exporter": "python",
   "pygments_lexer": "ipython3",
   "version": "3.12.10"
  }
 },
 "nbformat": 4,
 "nbformat_minor": 4
}
