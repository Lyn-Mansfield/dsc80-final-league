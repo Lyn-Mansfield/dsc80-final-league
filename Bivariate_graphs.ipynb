{
 "cells": [
  {
   "cell_type": "code",
   "execution_count": 8,
   "id": "46564991-d0ce-4da4-9a38-5dfea2c43514",
   "metadata": {},
   "outputs": [],
   "source": [
    "import pandas as pd\n",
    "import numpy as np\n",
    "from pathlib import Path\n",
    "import os\n",
    "\n",
    "import plotly.express as px\n",
    "import plotly.io as pio\n",
    "pio.renderers.default = 'iframe'\n",
    "\n",
    "pd.options.plotting.backend = 'plotly'\n",
    "from dsc80_utils import * # Feel free to uncomment and use this.\n",
    "from data_cleaner import *"
   ]
  },
  {
   "cell_type": "code",
   "execution_count": 17,
   "id": "bbd388cd-29ae-4a0d-bb27-c9c51bfb3a9f",
   "metadata": {},
   "outputs": [
    {
     "data": {
      "text/html": [
       "<iframe\n",
       "    scrolling=\"no\"\n",
       "    width=\"100%\"\n",
       "    height=\"545px\"\n",
       "    src=\"iframe_figures/figure_17.html\"\n",
       "    frameborder=\"0\"\n",
       "    allowfullscreen\n",
       "></iframe>\n"
      ]
     },
     "metadata": {},
     "output_type": "display_data"
    }
   ],
   "source": [
    "\n",
    "dataset_path = Path(\"LOL.csv\")\n",
    "# /data/2025_LoL_clean_stats.csv\n",
    "df = pd.read_csv(dataset_path, dtype={2: str}) \n",
    "df = clean_lol_data(df)[0][:100]\n",
    "df['kill_participation'] = df['kills'] + df['assists']\n",
    "\n",
    "# Plot using pandas with plotly backend\n",
    "fig = df.plot(\n",
    "    kind='scatter',\n",
    "    x='kill_participation',\n",
    "    y='earnedgold',\n",
    "    title='Earned Gold vs Kill Participation (Kills + Assists)'\n",
    ")\n",
    "\n",
    "fig.show()"
   ]
  },
  {
   "cell_type": "code",
   "execution_count": 10,
   "id": "b838adf1-9e1b-4043-854e-0f18538da598",
   "metadata": {},
   "outputs": [
    {
     "data": {
      "text/html": [
       "<iframe\n",
       "    scrolling=\"no\"\n",
       "    width=\"100%\"\n",
       "    height=\"545px\"\n",
       "    src=\"iframe_figures/figure_10.html\"\n",
       "    frameborder=\"0\"\n",
       "    allowfullscreen\n",
       "></iframe>\n"
      ]
     },
     "metadata": {},
     "output_type": "display_data"
    }
   ],
   "source": [
    "avg_deaths = df.groupby('result')['deaths'].mean().reset_index()\n",
    "\n",
    "# Plot as bar chart\n",
    "fig = avg_deaths.plot(\n",
    "    kind='bar',\n",
    "    x='result',\n",
    "    y='deaths',\n",
    "    title='Average Deaths by Match Result',\n",
    "    labels={'result': 'Match Result', 'deaths': 'Average Deaths'},\n",
    ")\n",
    "\n",
    "fig.show()"
   ]
  },
  {
   "cell_type": "code",
   "execution_count": 16,
   "id": "b1e80d56-811b-40fe-be0c-57e0e17d4ad1",
   "metadata": {},
   "outputs": [
    {
     "data": {
      "text/html": [
       "<iframe\n",
       "    scrolling=\"no\"\n",
       "    width=\"100%\"\n",
       "    height=\"545px\"\n",
       "    src=\"iframe_figures/figure_16.html\"\n",
       "    frameborder=\"0\"\n",
       "    allowfullscreen\n",
       "></iframe>\n"
      ]
     },
     "metadata": {},
     "output_type": "display_data"
    }
   ],
   "source": [
    "avg_dmg_mitigated = df.groupby('position')['damagemitigatedperminute'].mean().reset_index().sort_values(by = 'damagemitigatedperminute')[:-1]\n",
    "\n",
    "# Plot bar chart\n",
    "fig = avg_dmg_mitigated.plot(\n",
    "    kind='bar',\n",
    "    x='position',\n",
    "    y='damagemitigatedperminute',\n",
    "    title='Average Damage Mitigated per Minute by Position',\n",
    "    labels={'position': 'Position', 'damagemitigatedperminute': 'Avg Damage Mitigated / Minute'}\n",
    ")\n",
    "\n",
    "fig.show()"
   ]
  },
  {
   "cell_type": "code",
   "execution_count": null,
   "id": "a7e4ee72-aacd-4bb5-9e99-37bf12c2c76c",
   "metadata": {},
   "outputs": [],
   "source": []
  },
  {
   "cell_type": "code",
   "execution_count": null,
   "id": "676d556d-9272-4cd0-a5c0-37d8e14c2238",
   "metadata": {},
   "outputs": [],
   "source": []
  }
 ],
 "metadata": {
  "kernelspec": {
   "display_name": "Python 3 (ipykernel)",
   "language": "python",
   "name": "python3"
  },
  "language_info": {
   "codemirror_mode": {
    "name": "ipython",
    "version": 3
   },
   "file_extension": ".py",
   "mimetype": "text/x-python",
   "name": "python",
   "nbconvert_exporter": "python",
   "pygments_lexer": "ipython3",
   "version": "3.12.10"
  }
 },
 "nbformat": 4,
 "nbformat_minor": 5
}
